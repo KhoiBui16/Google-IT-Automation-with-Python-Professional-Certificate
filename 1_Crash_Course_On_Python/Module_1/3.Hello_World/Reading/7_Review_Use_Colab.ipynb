{
 "cells": [
  {
   "cell_type": "markdown",
   "metadata": {},
   "source": [
    "# Review: Use Colab\n"
   ]
  },
  {
   "cell_type": "markdown",
   "metadata": {},
   "source": [
    "Colab Notebooks are Jupyter Notebooks that are hosted by Google’s Colaboratory. In Colab, you can write and run Python code. In this reading, you will learn more about how to use Colab and its features."
   ]
  },
  {
   "cell_type": "markdown",
   "metadata": {},
   "source": [
    "## 1. About Colab "
   ]
  },
  {
   "cell_type": "markdown",
   "metadata": {},
   "source": [
    "Colab is a web-based platform that allows you to write and run Python code really quickly in Google Drive. It is free and  ready to use with zero configuration required. You can simply visit \n",
    "[Colab](https://colab.research.google.com/notebooks/basic_features_overview.ipynb) to get started! "
   ]
  },
  {
   "cell_type": "markdown",
   "metadata": {},
   "source": [
    "## 2. Colab’s Features"
   ]
  },
  {
   "cell_type": "markdown",
   "metadata": {},
   "source": [
    "Colab provides all of the functionality that Python offers. The cells within Colab can include code, text, and images. The code cells include executable code and rich text which make it easy to write and run code. Colab also makes it easy to include markdown in your notebooks. This is a great feature for sharing notebooks because you can add headings, paragraphs, lists, mathematical formulas, and more. You can install Python packages using the pip command within the code cell. Colab Notebooks can easily be shared with other collaborators, too. \n",
    "\n",
    "Note: When you create a Colab Notebook it is stored in your Google Drive. You can easily share using the share button in the upper right hand corner of the notebook. "
   ]
  },
  {
   "cell_type": "markdown",
   "metadata": {},
   "source": [
    "### Create a Colab Notebook\n"
   ]
  },
  {
   "cell_type": "markdown",
   "metadata": {},
   "source": [
    "Open [Google Colab](https://colab.research.google.com/notebooks/welcome.ipynb#recent=true) .\n",
    "\n",
    "Click on New Notebook in the bottom right corner. \n",
    "\n",
    "![image.png](./image/colab_Notebook.png)\n",
    "\n",
    "1. Begin writing your Python code. \n",
    "\n",
    "2. To run your code and see its execution use the \n",
    "\n",
    "![button](https://d3c33hcgiwev3.cloudfront.net/imageAssetProxy.v1/E0igpDXeSeWgte-mzXz7vw_90242759db854d169a3ccd28e2059ef1_W2ZOLo8AHhbpYyx_EioHSJ0eeYSXEHO4tbmdCaaYXj3MDeBnpMdCJsxW02du7272GcKC4EnjQn-Dxui5QHmtyzot2GVRdqErktyOXQTK3RRx0xrai5Ff2uCBDFN1huoszer1F2aKVm5psfbOvQaj28Zc_dS98eJ0Owui8uVeOFb9FnCinfLTmZVuTS1fE2a49T_mTfoYuyjHOGLuwuqPW0nuBQtBVoRP51jVeg?expiry=1724630400000&hmac=7LriiSA9c9JlieVfO2W0hdjCRFJZhUCm_6f-CZzTBGQ)\n",
    "\n",
    "`Pro tip`: To install a Python library use the pip command with an exclamation point.\n",
    "\n",
    "`!pip install <library name>`\n"
   ]
  },
  {
   "cell_type": "markdown",
   "metadata": {},
   "source": [
    "## Resources for more information"
   ]
  },
  {
   "cell_type": "markdown",
   "metadata": {},
   "source": [
    "Review the following resources to find out more about Colab: \n",
    "\n",
    "This [resource](https://colab.research.google.com/notebooks/basic_features_overview.ipynb) provides an overview of Colab’s features with examples. \n",
    "\n",
    "This is a [guide](https://colab.research.google.com/notebooks/snippets/importing_libraries.ipynb) to installing and using Python libraries in Colab. \n",
    "\n",
    "This [resource](https://colab.research.google.com/github/googlecolab/colabtools/blob/main/notebooks/colab-github-demo.ipynb) provides directions on how to save and load Colab Notebooks in GitHub.  "
   ]
  }
 ],
 "metadata": {
  "language_info": {
   "name": "python"
  }
 },
 "nbformat": 4,
 "nbformat_minor": 2
}
