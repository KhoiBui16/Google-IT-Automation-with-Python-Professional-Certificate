{
 "cells": [
  {
   "cell_type": "markdown",
   "metadata": {},
   "source": [
    "# Review: Use the command-line"
   ]
  },
  {
   "cell_type": "markdown",
   "metadata": {},
   "source": [
    "The `command-line` is used to tell your computer what to do. You can use it to `access servers`, `move files`, `change directories`, and `write scripts`. In this reading, you will learn how to write Python scripts at the command-line along with the Python GUI IDLE. We will also cover the different ways you can `access the command-line` based on your `operating system`. "
   ]
  },
  {
   "cell_type": "markdown",
   "metadata": {},
   "source": [
    "## 1. Using the command line on MacOS"
   ]
  },
  {
   "cell_type": "markdown",
   "metadata": {},
   "source": [
    "Using the spotlight search, type in `“terminal.”` Select the terminal application. You should see your username followed by the `$ sign`. `MacOS` comes with Python 2.7 pre-installed. You can install Python 3 from [python.org](https://www.python.org/) . Just remember, this means that you will have 2 versions of Python installed on your Mac, and you will need to pay special attention to your paths."
   ]
  },
  {
   "cell_type": "markdown",
   "metadata": {},
   "source": [
    "### To check which version of Python you have installed on your Mac, use the following command."
   ]
  },
  {
   "cell_type": "markdown",
   "metadata": {},
   "source": [
    "`python --version`\n",
    "\n",
    "To check for Python3, use the following command. \n",
    "\n",
    "`python3 --version`\n",
    "\n"
   ]
  },
  {
   "cell_type": "markdown",
   "metadata": {},
   "source": [
    "## 2. Using the command line on Windows OS"
   ]
  },
  {
   "cell_type": "markdown",
   "metadata": {},
   "source": [
    "In Windows, open the start menu. In the search box type cmd. Right-click on cmd and select Run as administrator. This will open up the command-line. Windows OS does not come with Python installed. Visit the official Python \n",
    "[download page](https://www.python.org/downloads/windows/) for Windows. Select the Windows installer `(64-bit)` or `(32-bit)`. After the installer is downloaded, double–click the file. Select `Install launcher for all users`. Follow the prompts during installation. Make sure to select the `Add python.exe PATH` checkbox. This will allow you to launch Python from the command line. Once installation is complete, you can check for Python from the command line."
   ]
  },
  {
   "cell_type": "markdown",
   "metadata": {},
   "source": [
    "### To check for Python, use the following command. The version of Python you installed will appear. "
   ]
  },
  {
   "cell_type": "markdown",
   "metadata": {},
   "source": [
    "`python --version`"
   ]
  },
  {
   "cell_type": "markdown",
   "metadata": {},
   "source": [
    "## 3. Using the command line on Linux OS"
   ]
  },
  {
   "cell_type": "markdown",
   "metadata": {},
   "source": [
    "Access the Linux terminal using `Ctrl + Alt + T`. This will allow you to check for Python. Type python. Python comes preinstalled on most Linux systems. If the command is not found, you can install Python by `writing sudo apt install python3`. \n",
    "\n",
    "You can begin writing Python code from the terminal. Simply type python to use the interactive mode. You can also write `Python scripts using Linux with IDLE` which we will cover next. "
   ]
  },
  {
   "cell_type": "markdown",
   "metadata": {},
   "source": [
    "## 4. Using IDLE"
   ]
  },
  {
   "cell_type": "markdown",
   "metadata": {},
   "source": [
    "`Python IDLE` is included with `Python installations` on `Windows` and `MacOS`. You can download IDLE using your `package manager on Linux`. Python IDLE is `an interactive interpreter` or `file editor` that allows you to easily `write Python scripts and programs`. IDLE provides `syntax highlighting`, `code completion`, and `automatic indentation`. \n",
    "\n"
   ]
  },
  {
   "cell_type": "markdown",
   "metadata": {},
   "source": [
    "Double click on the IDLE icon to open it on your computer. This will open a blank Python interpreter window. You can begin writing code right away. \n",
    "\n",
    "![image.png](./image/IDLE_Shell_3.11.2.png)\n",
    "\n",
    "> You can also open a new file. Go to File → Open → New File from the menu bar. Here you can write a Python file. Once you have completed writing your Python code in the file, go to File → Save As. Give your Python file a name. Hit Save. To run the Python code in the file you saved click Run → Run Module from the menu.\n",
    "\n"
   ]
  },
  {
   "cell_type": "markdown",
   "metadata": {},
   "source": [
    "Example: Sum.py\n",
    "\n",
    "![image.png](./image/Sum.py.png)"
   ]
  },
  {
   "cell_type": "markdown",
   "metadata": {},
   "source": [
    "### Key takeaways"
   ]
  },
  {
   "cell_type": "markdown",
   "metadata": {},
   "source": [
    "Whichever operating system you are using, you will be able to run Python from the command-line.  Using a text editor like IDLE and running python from the command-line  is best for executing and debugging individual scripts or .py files. "
   ]
  },
  {
   "cell_type": "markdown",
   "metadata": {},
   "source": [
    "## 5. Resources for more information"
   ]
  },
  {
   "cell_type": "markdown",
   "metadata": {},
   "source": [
    "Here is a list of additional resources for writing and running Python on your local machine. \n",
    "\n",
    "A `guide` to using terminal (command-line) on Mac, Windows, and Linux operating systems. \n",
    "\n",
    "[IDLE documentation and instructions](https://docs.python.org/3/library/idle.html)\n",
    "\n",
    "[Python Scripts vs. Jupyter Notebooks](https://learnpython.com/blog/python-scripts-vs-jupyter-notebooks/)"
   ]
  }
 ],
 "metadata": {
  "kernelspec": {
   "display_name": "khoibui",
   "language": "python",
   "name": "python3"
  },
  "language_info": {
   "name": "python",
   "version": "3.12.3"
  }
 },
 "nbformat": 4,
 "nbformat_minor": 2
}
