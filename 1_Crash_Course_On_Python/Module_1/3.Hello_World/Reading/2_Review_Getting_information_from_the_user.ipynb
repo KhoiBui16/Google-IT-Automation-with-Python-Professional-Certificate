{
 "cells": [
  {
   "cell_type": "markdown",
   "metadata": {},
   "source": [
    "# Review: Getting information from the user"
   ]
  },
  {
   "cell_type": "markdown",
   "metadata": {},
   "source": [
    "## 1. Introduction"
   ]
  },
  {
   "cell_type": "markdown",
   "metadata": {},
   "source": [
    "This follow-along reading is organized to match the content in the video that follows. It contains the same code shown in the next video. These code blocks will provide you with the opportunity to see how the code is written, allow you to practice running it, and can be used as a reference to refer back to. \n",
    "\n",
    "You can follow along in the reading as the instructor discusses the code or review the code after watching the video."
   ]
  },
  {
   "cell_type": "code",
   "execution_count": null,
   "metadata": {},
   "outputs": [],
   "source": [
    "name = \"Brook\"\n",
    "print(\"Hello \" + name)\n",
    "#Hello Brook\n"
   ]
  },
  {
   "cell_type": "code",
   "execution_count": null,
   "metadata": {},
   "outputs": [],
   "source": [
    "name = \"Alex\"\n",
    "print(\"Hello \" + name)\n",
    "#Hello Alex\n"
   ]
  }
 ],
 "metadata": {
  "kernelspec": {
   "display_name": "khoibui",
   "language": "python",
   "name": "python3"
  },
  "language_info": {
   "name": "python",
   "version": "3.12.3"
  }
 },
 "nbformat": 4,
 "nbformat_minor": 2
}
