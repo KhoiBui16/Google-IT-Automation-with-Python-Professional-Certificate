{
 "cells": [
  {
   "cell_type": "markdown",
   "metadata": {},
   "source": [
    "# Review: Use VS Code"
   ]
  },
  {
   "cell_type": "markdown",
   "metadata": {},
   "source": [
    "VS code is an open source code editor that includes developer tooling. It is similar to Jupyter Notebooks and Colab, but it includes more features. VS code provides built-in support with \n",
    "[Intellisense](https://code.visualstudio.com/docs/editor/intellisense#:~:text=IntelliSense%20is%20a%20general%20term,%2C%20and%20%22code%20hinting.%22) code completion, an interactive debugger, and other build and scripting tools. VS code has a simple design that is easy to use. Its intuitive features make it a great choice for coding in Python!"
   ]
  },
  {
   "cell_type": "markdown",
   "metadata": {},
   "source": [
    "## 1. Using VS Code with Python "
   ]
  },
  {
   "cell_type": "markdown",
   "metadata": {},
   "source": [
    "To use VS code for Python, you will need to have Python3, VS Code, and the VS Code Python extension installed. Make sure that you have Python3 installed on your computer by typing the following command in the terminal on your computer. \n"
   ]
  },
  {
   "cell_type": "markdown",
   "metadata": {},
   "source": [
    "Linux/macOS: open a Terminal Window and type the following command:\n",
    "\n",
    "> python3 --version \n",
    "\n",
    "Windows: open a command prompt and run the following command:\n",
    "\n",
    "> py -3 --version\n",
    "\n",
    "If Python3 is installed the output should look like this:\n",
    "\n",
    "> $python3 -- version\n",
    "\n",
    "> Python 3.11.3\n",
    "\n",
    "If it is not installed the output will look like this:\n",
    "\n",
    "> $python3 -- version\n",
    "\n",
    "command not found: python"
   ]
  },
  {
   "cell_type": "markdown",
   "metadata": {},
   "source": [
    "## 2. Download VS Code and install the Python extension"
   ]
  },
  {
   "cell_type": "markdown",
   "metadata": {},
   "source": [
    "You can download VS code \n",
    "[here](https://code.visualstudio.com/Download). You can use VS code on Windows, Mac, and Linux operating systems. Download the version that is compatible with your operating system. Follow the download prompts. Once the download and installation is complete you will be able to open VS Code and begin using it. \n",
    "\n",
    "Next, you will install the Python extension. You can do this by visiting the [VS Code Marketplace](https://marketplace.visualstudio.com/items?itemName=ms-python.python). Follow the download instructions there.  You can check to make sure the Python extension was added successfully by clicking on this icon in VS Code.\n",
    "\n",
    "![image.png](./image/Download%20VS%20Code%20and%20install%20the%20Python%20extension.png)\n",
    "\n",
    "`Note`: You cannot use  VS Code Marketplace to install the Python extension on MacOS. \n",
    "\n",
    "For MacOS, open the command palette in VS code. You can do this by hitting Cmd+Shift+P. Type `‘shell command’`. Find the Shell Command: `Install ‘code’ command in PATH.`\n",
    "\n",
    "Once this is completed you can begin writing, running, and debugging Python code in VS Code!\n",
    "\n",
    "`Pro tip`: To try VS Code without downloading or installation click [here](https://vscode.dev/)\n",
    "."
   ]
  },
  {
   "cell_type": "markdown",
   "metadata": {},
   "source": [
    "## 3. Create a Python File"
   ]
  },
  {
   "cell_type": "markdown",
   "metadata": {},
   "source": [
    "To create a Python file in VS Code go to File → New File… → Python File. A new workspace will appear, and you can begin writing your Python code. Let’s test it out with a simple statement. Type the following statement into the new workspace.\n",
    "\n",
    "> print(“Hello World!”)\n",
    "\n",
    "- Next, click on  the Run and Debug icon in the left hand toolbar. \n",
    "\n",
    "![image.png](./image/Run%20and%20debug%20icon.png)\n",
    "\n",
    "- Then, click Run and Debug here:\n",
    "\n",
    "![image.png](./image/Click%20run%20and%20debug.png)\n",
    "\n",
    "- You will be prompted to name and save your file. Give your Python file a name and click save.\n",
    "\n",
    "![image.png](./image/create_file_python.png)\n",
    "\n",
    "- Your code will run and you will see its output here. \n",
    "\n",
    "![image.png](./image//code%20run%20output.png)\n",
    "\n",
    "> Now  you know the basics of VS Code and how to use it! "
   ]
  },
  {
   "cell_type": "markdown",
   "metadata": {},
   "source": [
    "## 4. Key takeaways"
   ]
  },
  {
   "cell_type": "markdown",
   "metadata": {},
   "source": [
    "VS Code is an extremely robust source code editor. It uses \n",
    "[Intellisense](https://code.visualstudio.com/docs/editor/intellisense#:~:text=IntelliSense%20is%20a%20general%20term,%2C%20and%20%22code%20hinting.%22) technology which provides syntax highlighting and autocomplete for coding. VS code allows you to debug right in the editor with its interactive console. Overall, VS code is extremely interactive and customizable. There is also a large library of extensions that are easily integrated!"
   ]
  },
  {
   "cell_type": "markdown",
   "metadata": {},
   "source": [
    "## 5. Resources for more information"
   ]
  },
  {
   "cell_type": "markdown",
   "metadata": {},
   "source": [
    "Here are some resources on what VS Code has to offer!\n",
    "\n",
    "- This [resource](https://code.visualstudio.com/#powerful-debugging) provides an overview of VS Code.  \n",
    "\n",
    "- This [resource](https://code.visualstudio.com/docs/languages/python) provides more information on using Python with VS Code and also includes a tutorial you can follow along with.\n",
    "\n",
    "- This is the [extension library](https://marketplace.visualstudio.com/VSCode) for VS Code.   "
   ]
  }
 ],
 "metadata": {
  "language_info": {
   "name": "python"
  }
 },
 "nbformat": 4,
 "nbformat_minor": 2
}
