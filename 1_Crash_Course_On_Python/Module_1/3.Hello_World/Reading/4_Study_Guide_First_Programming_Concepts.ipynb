{
 "cells": [
  {
   "cell_type": "markdown",
   "metadata": {},
   "source": [
    "# Study Guide: First Programming Concepts"
   ]
  },
  {
   "cell_type": "markdown",
   "metadata": {},
   "source": [
    "This study guide provides a quick-reference summary of what you learned in this lesson and serves as a guide for the upcoming practice quiz.  "
   ]
  },
  {
   "cell_type": "markdown",
   "metadata": {},
   "source": [
    "## 1.Functions "
   ]
  },
  {
   "cell_type": "markdown",
   "metadata": {},
   "source": [
    "A function is a `piece of code` that `performs a unit of work`. In the examples you've seen so far, you have only encountered the print() function, which outputs a message to the screen. You will use this function frequently in this course to check the results of your code. The syntax of the print() function is modeled in the example below. "
   ]
  },
  {
   "cell_type": "code",
   "execution_count": 1,
   "metadata": {},
   "outputs": [
    {
     "name": "stdout",
     "output_type": "stream",
     "text": [
      "Hello, world!\n"
     ]
    }
   ],
   "source": [
    "# Syntax for printing a string of text. Click Run to check the result.\n",
    "\n",
    "print(\"Hello, world!\")\n"
   ]
  },
  {
   "cell_type": "markdown",
   "metadata": {},
   "source": [
    "## 2. Keywords"
   ]
  },
  {
   "cell_type": "markdown",
   "metadata": {},
   "source": [
    "A keyword is a `reserved word` in a programming language that `performs a specific purpose`. In your first Python example, you briefly encountered the keywords `for` and `in`.  Note that keywords will often appear in bold in this course. "
   ]
  },
  {
   "cell_type": "markdown",
   "metadata": {},
   "source": [
    "- In the next few weeks, you will also learn the following keywords:\n",
    "  + `Values`: True, False, None\n",
    "  + `Conditions`: if, elif, else\n",
    "  + `Logical operators`: and, or, not\n",
    "  + `Loops`: for, in, while, break, continue\n",
    "  + `Functions`: def, return  "
   ]
  },
  {
   "cell_type": "markdown",
   "metadata": {},
   "source": [
    "> You don't need to learn this whole list now. We'll dive into each keyword as we encounter them. There are additional reserved keywords in Python. If you would like to read about them, please visit the linked “Python Keywords” article in the Resources section at the end of this study guide. "
   ]
  },
  {
   "cell_type": "markdown",
   "metadata": {},
   "source": [
    "## 3. Arithmetic operators"
   ]
  },
  {
   "cell_type": "markdown",
   "metadata": {},
   "source": [
    "- Python can calculate numbers using common mathematical operators, along with some special operators, too:  \n",
    "  + x + y:      `Addition +` operator returns the `sum` of x plus y\n",
    "  + x - y:      `Subtraction -` operator returns the `difference` of x minus y\n",
    "  + x * y:      `Multiplication *` operator returns the `product` of x times y\n",
    "  + x / y:      `Division /` operator returns the `quotient` of x divided by y\n",
    "  + x**y:       `Exponent **` operator returns the result of `raising` x `to the power` of y \n",
    "  + x**2:       `Square expression` returns x `squared`\n",
    "  + x**3:       `Cube expression` returns x `cubed`\n",
    "  + x**(1/2):   `Square root (½)` or `(0.5) fractional exponent` operator returns `the square root` of x\n",
    "  + x // y:     `Floor division` operator returns the `integer part of the integer division` of x by y\n",
    "  + x % y:      `Modulo` operator returns `the remainder part` of the `integer division` of x by y"
   ]
  },
  {
   "cell_type": "markdown",
   "metadata": {},
   "source": [
    "### Order of operations"
   ]
  },
  {
   "cell_type": "markdown",
   "metadata": {},
   "source": [
    "The order of operations are to be calculated from left to right in the following order: "
   ]
  },
  {
   "cell_type": "markdown",
   "metadata": {},
   "source": [
    "1. Parentheses ( ), { }, [ ]\n",
    "\n",
    "2. Exponents xy   (x**y)\n",
    "\n",
    "3. Multiplication * and Division /  \n",
    "\n",
    "4. Addition + and Subtraction -    "
   ]
  },
  {
   "cell_type": "markdown",
   "metadata": {},
   "source": [
    "> You might find the `PEMDAS` mnemonic device to be helpful in remembering the order.   \n",
    "\n"
   ]
  },
  {
   "cell_type": "markdown",
   "metadata": {},
   "source": [
    "## 4. Resources for more information"
   ]
  },
  {
   "cell_type": "markdown",
   "metadata": {},
   "source": [
    "For more information about the concepts covered in this reading, please visit:"
   ]
  },
  {
   "cell_type": "markdown",
   "metadata": {},
   "source": [
    "- [Built-in Functions](https://docs.python.org/3/library/functions.html) - Lists and summarizes Python’s built-in functions.\n",
    "\n",
    "- [Python Keywords](https://www.w3schools.com/python/python_ref_keywords.asp) - Lists Python’s reserved keywords and a brief description of what each keyword does.\n",
    "\n",
    "- [Different Arithmetic operators in Python](https://flexiple.com/python/arithmetic-operators-in-python) - Provides more examples of the proper syntax for using arithmetic operators in Python."
   ]
  },
  {
   "cell_type": "markdown",
   "metadata": {},
   "source": [
    "> For additional Python practice, the following links will take you to several popular online interpreters and codepads:"
   ]
  },
  {
   "cell_type": "markdown",
   "metadata": {},
   "source": [
    "- [Welcome to Python](https://www.python.org/shell/)\n",
    " \n",
    "- [Online Python Interpreter](https://www.onlinegdb.com/online_python_interpreter)\n",
    " \n",
    "- [Create a new Repl](https://replit.com/languages/python3)\n",
    " \n",
    "- [Online Python-3 Compiler (Interpreter)](https://www.tutorialspoint.com/online_python_compiler.php)\n",
    "\n",
    "- [Compile Python 3 Online](https://rextester.com/l/python3_online_compiler)\n",
    "\n",
    "- [Your Python Trinket](https://trinket.io/python3)"
   ]
  }
 ],
 "metadata": {
  "kernelspec": {
   "display_name": "khoibui",
   "language": "python",
   "name": "python3"
  },
  "language_info": {
   "codemirror_mode": {
    "name": "ipython",
    "version": 3
   },
   "file_extension": ".py",
   "mimetype": "text/x-python",
   "name": "python",
   "nbconvert_exporter": "python",
   "pygments_lexer": "ipython3",
   "version": "3.12.3"
  }
 },
 "nbformat": 4,
 "nbformat_minor": 2
}
