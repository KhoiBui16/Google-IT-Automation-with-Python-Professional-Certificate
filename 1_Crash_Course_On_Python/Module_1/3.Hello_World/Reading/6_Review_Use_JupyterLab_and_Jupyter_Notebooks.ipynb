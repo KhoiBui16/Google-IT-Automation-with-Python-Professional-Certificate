{
 "cells": [
  {
   "cell_type": "markdown",
   "metadata": {},
   "source": [
    "# Review: Use JupyterLab and Jupyter Notebooks"
   ]
  },
  {
   "cell_type": "markdown",
   "metadata": {},
   "source": [
    "There are many different places and environments that you can use to write and run code.  In this video, you will learn more about JupyterLab and Jupyter Notebooks to write, run, and debug Python code. JupyterLab and Jupyter Notebooks are part of an open source project called \n",
    "[Project Jupyter](https://jupyter.org/) and are free to use. "
   ]
  },
  {
   "cell_type": "markdown",
   "metadata": {},
   "source": [
    "## 1. JupyterLab"
   ]
  },
  {
   "cell_type": "markdown",
   "metadata": {},
   "source": [
    "JupyterLab is a `web-based interface` that allows you to use Jupyter Notebooks to `write, run, and debug` Python code. JupyterLab is an `online environment` that allows you to `run` your `code in the cloud`. "
   ]
  },
  {
   "cell_type": "markdown",
   "metadata": {},
   "source": [
    "## 2. Jupyter Notebook"
   ]
  },
  {
   "cell_type": "markdown",
   "metadata": {},
   "source": [
    "Jupyter Notebook can be used and run in the web-based interface through \n",
    "[JupyterLab](https://jupyter.org/try-jupyter/lab/) or on your local machine. Jupyter Notebook allows you to create documents that contain live code. You can write Python programs and scripts using Jupyter Notebooks and see how they execute all in one place. It is a great tool for creating and understanding the code you are writing because you can see your input and output all in one spot. \n",
    "\n",
    "![image.png](./image/jupyter%20notebook.png)"
   ]
  },
  {
   "cell_type": "markdown",
   "metadata": {},
   "source": [
    "## 3. Using Jupyter Notebook on JupyterLab"
   ]
  },
  {
   "cell_type": "markdown",
   "metadata": {},
   "source": [
    "To use Jupyter Notebook in the cloud-based environment click \n",
    "[here](https://jupyter.org/try-jupyter/lab/) . To create a new notebook in the lab environment, + a new tab, and select Python under "
   ]
  },
  {
   "cell_type": "markdown",
   "metadata": {},
   "source": [
    "![image.png](https://d3c33hcgiwev3.cloudfront.net/imageAssetProxy.v1/z3ds5ckhRhOH-1SX__DBww_08e47074773e4a36b6179a6f1d0658f1_GnlFYX90EFsVPEz3VEtzLP_uGRbKdTPot0jPNTU7gGMec6zH1S9bEXfyaEkjVEFu8CSGrincvhSS-3FcHzmFupQISXfuzMFEnRPbK6dViA2OkiNgaqTvrKMf4x-ngwxqihTTuELnGBx1uJoLlwMDzQnc0qit1bGMVPYOph9bFs8gLhZ2ZqWPZlVb_gUUepi5yg-h3Dc06XfV3w8OOIYf_robeV3RdHHLqKhbtA?expiry=1724630400000&hmac=GmuoFdXxSQFwf-gTdOzCo0VlYbo4zImlYb93HGM_EYo)"
   ]
  },
  {
   "cell_type": "markdown",
   "metadata": {},
   "source": [
    "Notebook. A new Notebook will open up, and you can start writing and running Python code. \n",
    "\n",
    "![jupyter_notebook_Intro](./image/jupyter_notebook_Intro.png)"
   ]
  },
  {
   "cell_type": "markdown",
   "metadata": {},
   "source": [
    "## 4. Installing Jupyter "
   ]
  },
  {
   "cell_type": "markdown",
   "metadata": {},
   "source": [
    "If you would like to install JupyterLab and Jupyter Notebooks on your local machine you can do this by using the pip command from the Python terminal command-line."
   ]
  },
  {
   "cell_type": "markdown",
   "metadata": {},
   "source": [
    "### JupyterLab\n",
    "1. Install JupyterLab\n",
    "> pip install jupyterlab\n",
    "\n",
    "2. Once installed, launch JupyterLab\n",
    "> jupyter-lab"
   ]
  },
  {
   "cell_type": "markdown",
   "metadata": {},
   "source": [
    "Jupyter Notebook\n",
    "1. Install the classic Jupyter Notebook\n",
    "> pip install notebook\n",
    "\n",
    "2. Run the notebook\n",
    "> jupyter notebook"
   ]
  },
  {
   "cell_type": "markdown",
   "metadata": {},
   "source": [
    "## 5. Sharing Jupyter Notebooks"
   ]
  },
  {
   "cell_type": "markdown",
   "metadata": {},
   "source": [
    "JupyterLab and Jupyter Notebooks is a great resource for writing Python code. Notebooks can be shared and saved easily using email, GitHub, and \n",
    "[Jupyter Notebook Viewer](https://nbviewer.org/). "
   ]
  },
  {
   "cell_type": "markdown",
   "metadata": {},
   "source": [
    "## 6. Jupyter Resources"
   ]
  },
  {
   "cell_type": "markdown",
   "metadata": {},
   "source": [
    "- There are tons of Jupyter resources available. Here is a list of some great ones to help you get started!\n",
    "\n",
    "Try [Jupyter Notebooks](https://docs.jupyter.org/en/latest/start/index.html) in your browser.\n",
    "\n",
    "Install and use [JupyterLab and Jupyter Notebooks](https://docs.jupyter.org/en/latest/install.html).\n",
    "\n",
    "More information on [getting started](https://jupyter-notebook-beginner-guide.readthedocs.io/en/latest/what_is_jupyter.html) and using Jupyter. \n",
    "\n",
    "[Official documentation](https://docs.jupyter.org/en/latest/) for Project Jupyter. \n",
    "\n"
   ]
  }
 ],
 "metadata": {
  "kernelspec": {
   "display_name": "khoibui",
   "language": "python",
   "name": "python3"
  },
  "language_info": {
   "codemirror_mode": {
    "name": "ipython",
    "version": 3
   },
   "file_extension": ".py",
   "mimetype": "text/x-python",
   "name": "python",
   "nbconvert_exporter": "python",
   "pygments_lexer": "ipython3",
   "version": "3.12.3"
  }
 },
 "nbformat": 4,
 "nbformat_minor": 2
}
