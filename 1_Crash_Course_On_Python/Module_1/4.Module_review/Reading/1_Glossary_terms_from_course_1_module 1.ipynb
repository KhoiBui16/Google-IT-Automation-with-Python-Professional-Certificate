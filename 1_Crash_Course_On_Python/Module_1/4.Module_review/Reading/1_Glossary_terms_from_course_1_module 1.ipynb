{
 "cells": [
  {
   "cell_type": "markdown",
   "metadata": {},
   "source": [
    "# Glossary terms from course 1, module 1"
   ]
  },
  {
   "cell_type": "markdown",
   "metadata": {},
   "source": [
    "## 1. Terms and definitions from Course 1, Module 1 "
   ]
  },
  {
   "cell_type": "markdown",
   "metadata": {},
   "source": [
    "`Automation`: The process of `replacing a manual step with one` that happens automatically\n",
    "\n",
    "`Client-side scripting language`: Primarily for `web programming`; the scripts are `transferred` from a `web server` to the `end-user’s internet browser`, then `executed in the browser`\n",
    "\n",
    "`Code editors`: Tools to `provide features`, including `syntax highlighting`, `automatic indentation`, `error checking`, and `autocompletion`\n",
    "\n",
    "`Computer program`: A `step-by-step list of instructions` that a computer follows to `reach an intended goal`\n",
    "\n",
    "`Functions`: A `reusable block of code` that `performs a specific task`\n",
    "\n",
    "`IDE`: A `software application` that `provides comprehensive facilities` for `software development`\n",
    "\n",
    "`Interpreter`: The program that `reads` and `executes code`\n",
    "\n",
    "`Input`: Information that is `provided` to a program `by the end user`\n",
    "\n",
    "`Logic errors`: `Errors in code` that `prevent` it `from running correctly `\n",
    "\n",
    "`Machine language`: `Lowest-level computer language`. It `communicates directly` with `computing machines` in `binary code (ones and zeros)`\n",
    "\n",
    "`Object-oriented programming language (OOP)`: `Most coding elements` are considered to be objects with `configurable properties`\n",
    "\n",
    "`Output`: the `end result of a task performed` by a function or computer program\n",
    "\n",
    "`Platform-specific scripting language`: Language `used by system administrators` on those specific platforms \n",
    "\n",
    "`Programming`: The `process of writing a program` to behave in different ways \n",
    "\n",
    "`Programming code`: A `set of written computer instructions, guided by rules`, using a computer programming language\n",
    "\n",
    "`Programming languages`: `Language with syntax and semantics` to write computer programs\n",
    "\n",
    "`Python`: A general purpose programming language \n",
    "\n",
    "`Python interpreter`: Program that `reads and executes Python code` by `translating` Python code into computer instructions\n",
    "\n",
    "`Script`: Often used to `automate specific tasks`\n",
    "\n",
    "`Semantics`: The `intended meaning or effect of statements`, or `collections of words`, in `both` `human and computer languages`\n",
    "\n",
    "`Syntax`: The `rules for how each statements are constructed in` both human and computer languages\n",
    "\n",
    "`Variables`: These are used to `temporarily store changeable values` in programming code"
   ]
  }
 ],
 "metadata": {
  "language_info": {
   "name": "python"
  }
 },
 "nbformat": 4,
 "nbformat_minor": 2
}
