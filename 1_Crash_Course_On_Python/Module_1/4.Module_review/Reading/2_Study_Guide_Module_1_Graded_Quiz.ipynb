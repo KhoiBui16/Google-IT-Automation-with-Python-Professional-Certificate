{
 "cells": [
  {
   "cell_type": "markdown",
   "metadata": {},
   "source": [
    "# Study Guide: Module 1 Graded Quiz"
   ]
  },
  {
   "cell_type": "markdown",
   "metadata": {},
   "source": [
    "## 1. Study Guide: Module 1 Graded Assessment\n"
   ]
  },
  {
   "cell_type": "markdown",
   "metadata": {},
   "source": [
    "It is time to prepare for your first graded quiz! Please review the following items from this module before beginning the Module 1 Graded Quiz. If you would like to refresh your memory on these materials, please revisit the Study Guides located before each Practice  Quiz in Module 1: [Study Guide: Introduction to Programming](https://www.coursera.org/learn/python-crash-course/supplement/JNRad/study-guide-introduction-to-programming), [Study Guide:Introduction to Python](https://www.coursera.org/learn/python-crash-course/supplement/BqgFu/study-guide-introduction-to-python), and [Study Guide: First Programming Concepts](https://www.coursera.org/learn/python-crash-course/supplement/e5FGg/study-guide-first-programming-concepts)\n"
   ]
  },
  {
   "cell_type": "markdown",
   "metadata": {},
   "source": [
    "## 2. Knowledge"
   ]
  },
  {
   "cell_type": "markdown",
   "metadata": {},
   "source": [
    "  - Bnefits of the Python programming language\n",
    "\n",
    "  - How Python compares to other programming languages\n",
    "\n",
    "  - How the knowledge of one programming language affects learning and using other programming languages\n",
    "\n",
    "  - How scripting applies to automation\n",
    "\n",
    "  - Proper syntax for arithmetic operations\n",
    "\n",
    "  - Functions and keywords used to display data \n",
    "\n",
    "  - Why precision is important when programming computer instructions\n",
    "\n",
    "- Terms:\n",
    "  + Computer programs\n",
    "\n",
    "  + Programming language\n",
    "\n",
    "  + Syntax\n",
    "\n",
    "  + Semantics\n",
    "\n",
    "  + Logic errors\n",
    "\n",
    "  + Script\n",
    "\n",
    "  + Automation\n",
    "\n",
    "  + Function"
   ]
  },
  {
   "cell_type": "markdown",
   "metadata": {},
   "source": [
    "## 3. Coding skills"
   ]
  },
  {
   "cell_type": "markdown",
   "metadata": {},
   "source": [
    "- Skill 1\n",
    "  + Use the print() function to output a string "
   ]
  },
  {
   "cell_type": "code",
   "execution_count": 1,
   "metadata": {},
   "outputs": [
    {
     "name": "stdout",
     "output_type": "stream",
     "text": [
      "I love Python!\n",
      "360\n",
      "1440\n",
      "48\n"
     ]
    }
   ],
   "source": [
    "# Syntax for printing a string of text\n",
    "print(\"I love Python!\")\n",
    "\n",
    "\n",
    "# Syntax for printing numeric values\n",
    "print(360)\n",
    "print(32*45)\n",
    "\n",
    "\n",
    "# Syntax for printing the value of a variable\n",
    "value = 8*6\n",
    "print(value)\n"
   ]
  },
  {
   "cell_type": "markdown",
   "metadata": {},
   "source": [
    "- Skill 2\n",
    "  + Use arithmetic operators, with a focus on exponents"
   ]
  },
  {
   "cell_type": "code",
   "execution_count": null,
   "metadata": {},
   "outputs": [],
   "source": [
    "# Multiplication, division, addition, and subtraction\n",
    "print(3*8/2+5-1)\n",
    "\n",
    "# Exponents\n",
    "print(4**6) # Syntax means 4 to the power of 6\n",
    "print(4**2) # To square a number\n",
    "print(4**3) # To cube a number\n",
    "print(4**0.5) # To find the square root of a number\n",
    "\n",
    "# To calculate how many different possible combinations can be\n",
    "# formed using a set of \"x\" characters with each character in \"x\"\n",
    "# having \"y\" number of possible values, you will need to use an \n",
    "# exponent for the calculation:\n",
    "x = 4\n",
    "y = 26\n",
    "print(y**x)\n"
   ]
  },
  {
   "cell_type": "markdown",
   "metadata": {},
   "source": [
    "- Skill 3\n",
    "  + Use variables with assignment and arithmetic operators"
   ]
  },
  {
   "cell_type": "code",
   "execution_count": 2,
   "metadata": {},
   "outputs": [
    {
     "name": "stdout",
     "output_type": "stream",
     "text": [
      "520\n"
     ]
    }
   ],
   "source": [
    "# Assignment of values to the variables:\n",
    "years = 10\n",
    "weeks_in_a_year = 52\n",
    "# This variable is assigned an arithmetic calculation:\n",
    "weeks_in_a_decade = years * weeks_in_a_year\n",
    "# Prints the calculation stored in the \"weeks_in_a_decade\" variable:\n",
    "print(weeks_in_a_decade)\n"
   ]
  },
  {
   "cell_type": "markdown",
   "metadata": {},
   "source": [
    "## 4. Reminder: Correct syntax is critical"
   ]
  },
  {
   "cell_type": "markdown",
   "metadata": {},
   "source": [
    "`Using precise syntax` is `critical` when writing code in any programming language, including Python. Even `a small typo can cause a syntax error` and the automated` Python-coded quiz grader will mark your code as incorrect`. This `reflects real life coding errors` in the sense that a `single error` in `spelling, case, punctuation, etc`. can cause your code to fail. `Coding problems caused by imprecise syntax` will always be an issue whether you are learning a programming language or you are using programming skills `on the job`. So, it is `critical to start the habit of being precise` in your code now. \n",
    "\n",
    "No credit will be given if there are any coding errors on the automated graded quizzes - including minor errors. Fortunately, you have `3 optional retake opportunities on the graded quizzes` in this course. Additionally, you have `unlimited retakes on practice quizzes` and can review the videos and readings as many times as you need to master the concepts in this course.  \n",
    "\n",
    "Now, before starting the graded quiz, review this list of common syntax errors coders make when writing code."
   ]
  },
  {
   "cell_type": "markdown",
   "metadata": {},
   "source": [
    "Common syntax errors:\n",
    "\n",
    "- Misspellings\n",
    "\n",
    "- Incorrect indentations\n",
    "\n",
    "- Missing or incorrect key characters:\n",
    "  + Parenthetical types - ( curved ), [ square ], { curly }\n",
    "\n",
    "  + Quote types - \"straight-double\" or 'straight-single', “curly-double” or ‘curly-single’\n",
    "\n",
    "  + Block introduction characters, like colons - :\n",
    "\n",
    "- Data type mismatches\n",
    "\n",
    "- Missing, incorrectly used, or misplaced Python reserved words\n",
    "\n",
    "- Using the wrong case (uppercase/lowercase) - Python is a case-sensitive language \n"
   ]
  },
  {
   "cell_type": "markdown",
   "metadata": {},
   "source": [
    "## 5. Resources"
   ]
  },
  {
   "cell_type": "markdown",
   "metadata": {},
   "source": [
    "- For additional Python practice, the following links will take you to several popular online interpreters and codepads:\n",
    "\n",
    "  + [Welcome to Python](https://www.python.org/shell/)\n",
    "  \n",
    "  + [Online Python Interpreter](https://www.onlinegdb.com/online_python_interpreter)\n",
    " \n",
    "  + [Create a new Repl](https://replit.com/languages/python3)\n",
    " \n",
    "  + [Online Python-3 Compiler (Interpreter)](https://www.tutorialspoint.com/online_python_compiler.php)\n",
    "\n",
    "  + [Compile Python 3 Online](https://rextester.com/l/python3_online_compiler)\n",
    "\n",
    "  + [Your Python Trinket](https://trinket.io/python3)"
   ]
  }
 ],
 "metadata": {
  "kernelspec": {
   "display_name": "khoibui",
   "language": "python",
   "name": "python3"
  },
  "language_info": {
   "codemirror_mode": {
    "name": "ipython",
    "version": 3
   },
   "file_extension": ".py",
   "mimetype": "text/x-python",
   "name": "python",
   "nbconvert_exporter": "python",
   "pygments_lexer": "ipython3",
   "version": "3.12.3"
  }
 },
 "nbformat": 4,
 "nbformat_minor": 2
}
