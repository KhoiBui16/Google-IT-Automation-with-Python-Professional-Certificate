{
 "cells": [
  {
   "cell_type": "markdown",
   "metadata": {},
   "source": [
    "# Python Resources\n",
    "More About Python"
   ]
  },
  {
   "cell_type": "markdown",
   "metadata": {},
   "source": [
    "## 1. Using Python on your own\n"
   ]
  },
  {
   "cell_type": "markdown",
   "metadata": {},
   "source": [
    "The best way to learn any programming language is to practice it on your own as much as you can. If you have Python installed on your computer, you can execute the interpreter by running the python3 command (or just python on Windows), and you can close it by typing exit() or Ctrl-D.\n",
    "\n",
    "If you don’t already have Python installed on your machine, that’s alright. We’ll explain how to install it in an upcoming course."
   ]
  },
  {
   "cell_type": "markdown",
   "metadata": {},
   "source": [
    "## 2. Python practice resources"
   ]
  },
  {
   "cell_type": "markdown",
   "metadata": {},
   "source": [
    "In the meantime, you can still practice by using one of the many online Python interpreters or codepads available online. There’s not much difference between an interpreter and a codepad. An interpreter is more interactive than a codepad, but they both let you execute code and see the results.\n",
    "\n",
    "Below, you’ll find links to some of the most popular online interpreters and codepads. Give them a go to find your favorite.\n",
    "\n",
    "- [python.org/shell](https://www.python.org/shell/)\n",
    "\n",
    "- [onlinegdb.com/online_python_interpreter](https://www.onlinegdb.com/online_python_interpreter)\n",
    "\n",
    "- [repl.it/languages/python3](https://repl.it/languages/python3)\n",
    "\n",
    "- [tutorialspoint.com/execute_python3_online.php](https://www.tutorialspoint.com/execute_python3_online.php)\n",
    "\n",
    "- [rextester.com/l/python3_online_compiler](https://rextester.com/l/python3_online_compiler)\n",
    "\n",
    "- [trinket.io/python3](https://trinket.io/python3)"
   ]
  },
  {
   "cell_type": "markdown",
   "metadata": {},
   "source": [
    "## 3. Additional Python resources"
   ]
  },
  {
   "cell_type": "markdown",
   "metadata": {},
   "source": [
    "While this course will give you information about how Python works and how to write scripts in Python, you’ll likely want to find out more about specific parts of the language. Here are some great ways to help you find additional info: \n",
    "\n",
    "- Read the [official Python documentation](https://docs.python.org/3/) \n",
    "\n",
    "- Search for answers or ask a question on [Stack Overflow](https://stackoverflow.com/)\n",
    "\n",
    "- Subscribe to the Python [tutor](https://mail.python.org/mailman/listinfo/tutor) mailing list, where you can ask questions and collaborate with other Python learners.\n",
    "\n",
    "- Subscribe to the [Python-announce](https://mail.python.org/mailman3/lists/python-announce-list.python.org/) mailing list to read about the latest updates in the language."
   ]
  },
  {
   "cell_type": "markdown",
   "metadata": {},
   "source": [
    "## 4. Python history and current status"
   ]
  },
  {
   "cell_type": "markdown",
   "metadata": {},
   "source": [
    "Python was released almost 30 years ago and has a rich history. You can read more about it on the [History of Python](https://en.wikipedia.org/wiki/History_of_Python) Wikipedia page or in the section on the \n",
    "[history of the software](https://docs.python.org/3.0/license.html) from the official Python documentation.\n",
    "\n",
    "Python is a rapidly evolving language, with new versions released regularly to introduce fresh features, enhance performance, address security vulnerabilities, and improve overall usability. While these updates drive innovation, they can sometimes require adjustments to existing code. Fortunately, Python offers tools to facilitate the migration process. For this course, we will be using Python 3.7. To stay up to date on the most current release of Python or find a specific release, you can visit \n",
    "[Python's website](https://www.python.org/downloads/).\n",
    "\n",
    "- Additionally, if you would like to learn more about Python and its history you can visit the following websites:\n",
    "  + [The Incredible Growth of Python](https://stackoverflow.blog/2017/09/06/incredible-growth-python/) (Stack Overflow)\n",
    "  + [Why is Python Growing So Quickly - Future Trends](https://www.netguru.com/blog/future-of-python) (Netguru)\n",
    "  + [Python Trends](https://technobrains.io/watch-out-for-python-trends-2023/) (TechnoBrains)\n",
    "  + [Developer Survey Results 2018](https://survey.stackoverflow.co/2018#technology) (Stack Overflow)\n"
   ]
  }
 ],
 "metadata": {
  "language_info": {
   "name": "python"
  }
 },
 "nbformat": 4,
 "nbformat_minor": 2
}
