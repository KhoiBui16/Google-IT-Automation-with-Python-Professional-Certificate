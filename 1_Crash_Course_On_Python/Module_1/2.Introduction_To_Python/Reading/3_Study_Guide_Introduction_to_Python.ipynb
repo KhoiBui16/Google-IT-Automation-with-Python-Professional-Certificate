{
 "cells": [
  {
   "cell_type": "markdown",
   "metadata": {},
   "source": [
    "# Study Guide: Introduction to Python"
   ]
  },
  {
   "cell_type": "markdown",
   "metadata": {},
   "source": [
    "This study guide provides a quick-reference summary of what you learned in this lesson and serves as a guide for the upcoming practice quiz.  \n",
    "\n",
    "In this segment, you learned that Python is a general purpose programming language that is commonly used for scripting and automation, as well as to develop a wide variety of applications. Python is compatible with most operating systems, including Windows, Linux, and Mac OS, and is updated every few years. Python can also run on a variety of machines, such as servers, workstations, PCs, mobile devices, IoT, and more.\n",
    "\n",
    "Python is widely used in the IT field, including IT support, system administration, web development, machine learning, data analytics, and more. Python can be used to calculate statistics, run your e-commerce site, process images, interact with web services, and do a whole host of other tasks. Python instructions resemble the English language, which is what makes it easier to learn and understand when compared to other programming languages."
   ]
  },
  {
   "cell_type": "markdown",
   "metadata": {},
   "source": [
    "## 1. Python is:\n"
   ]
  },
  {
   "cell_type": "markdown",
   "metadata": {},
   "source": [
    "- a general purpose scripting language;\n",
    "\n",
    "- a popular language used to code - a variety of applications;\n",
    "\n",
    "- a frequently used tool for automation;\n",
    "\n",
    "- a cross-platform compatible language;\n",
    "\n",
    "- a beginner-friendly language."
   ]
  },
  {
   "cell_type": "markdown",
   "metadata": {},
   "source": [
    "## 2. Python is not: \n",
    "\n"
   ]
  },
  {
   "cell_type": "markdown",
   "metadata": {},
   "source": [
    "- a platform-specific / OS-specific scripting language;\n",
    "\n",
    "- a client-side scripting language;\n",
    "\n",
    "- a purely object-oriented programming language."
   ]
  },
  {
   "cell_type": "markdown",
   "metadata": {},
   "source": [
    "## 3. Code comparison with Python"
   ]
  },
  {
   "cell_type": "markdown",
   "metadata": {},
   "source": [
    "- You will be learning about both Python and Bash scripting in this program. The following code illustrates a syntax difference between the two languages:\n",
    "\n",
    "  + Print to screen in Python  \n",
    "    > print(\"Hello, how are you?\")\n",
    "    output: Hello, how are you?\n",
    "\n",
    "\n",
    "  + Print to screen in Bash  \n",
    "    > echo Hello, how are you?\n",
    "    output: Hello, how are you?"
   ]
  },
  {
   "cell_type": "markdown",
   "metadata": {},
   "source": [
    "## 4.  Key Terms"
   ]
  },
  {
   "cell_type": "markdown",
   "metadata": {},
   "source": [
    "- `Platform-specific / OS specific scripting language` - Platform-specific scripting languages, like `PowerShell` (for Windows) and `Bash` (for Linux), are used by `system administrators` on those platforms. \n",
    "\n",
    "- `Client-side scripting language` - Client-side scripting languages, like JavaScript, are used mostly for `web programming`. The scripts are transferred from a web server to the end-user’s internet browser, then executed in the browser.\n",
    "\n",
    "- `Machine language` - Machine language is the `lowest-level computer language`. It communicates directly with computing machines in `binary code` (ones and zeros). In binary code, `one equals a pulse of electricity` and `zero equals no electrical pulse`. Machine language instructions are made from `translating languages` like Python into complex patterns of ones and zeros. \n",
    "\n",
    "- `Cross-platform language` - Programming language that is `compatible with one or more platforms / operating systems` (e.g., Windows, Linux, Mac, iOS, Android).\n",
    "\n",
    "- `Object-oriented programming language (OOP)` - In object-oriented programming languages, most coding elements are considered to be `objects with configurable properties`. For example, a form field is an object that can be configured to accept only dates as input in the mm/dd/yy format, and can be configured to read from and write to a specific database. \n",
    "\n",
    "- `Python interpreter` - An interpreter is the program that `reads` and `executes Python code` by `translating` Python code `into computer instructions`."
   ]
  },
  {
   "cell_type": "markdown",
   "metadata": {},
   "source": [
    "## 5. Resources\n",
    "For additional Python practice, the following links will take you to several popular online interpreters and codepads:\n",
    "\n",
    "- [Welcome to Python](https://www.python.org/shell/)\n",
    "\n",
    "- [Online Python Interpreter](https://www.onlinegdb.com/online_python_interpreter)\n",
    "\n",
    "- [Create a new Repl](https://replit.com/languages/python3)\n",
    " \n",
    "- [Online Python-3 Compiler (Interpreter)](https://www.tutorialspoint.com/online_python_compiler.php)\n",
    "\n",
    "- [Compile Python 3 Online](https://rextester.com/l/python3_online_compiler)\n",
    "\n",
    "- [Your Python Trinket](https://trinket.io/python3)"
   ]
  }
 ],
 "metadata": {
  "language_info": {
   "name": "python"
  }
 },
 "nbformat": 4,
 "nbformat_minor": 2
}
