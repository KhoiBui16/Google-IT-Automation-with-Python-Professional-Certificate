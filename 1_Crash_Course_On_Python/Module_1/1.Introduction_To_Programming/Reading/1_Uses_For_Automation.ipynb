{
 "cells": [
  {
   "cell_type": "markdown",
   "metadata": {},
   "source": [
    "# Uses for Automation\n"
   ]
  },
  {
   "cell_type": "markdown",
   "metadata": {},
   "source": [
    " Scripts can be used for automating specific tasks. Automation is used to replace a repetitive manual step with one that happens automatically. Humans are fallible. They can become tired, make mistakes, fail to follow instructions, be inconsistent in their job performance, and more. In contrast, automated processes complete instructions exactly as coded, in a consistent manner. They can run 24 hours a day, everyday, without tiring. For many tasks that are appropriate for automation, it can be more cost effective to use automation than human labor. \n"
   ]
  },
  {
   "cell_type": "markdown",
   "metadata": {},
   "source": [
    "## Appropriate uses for automation include:\n"
   ]
  },
  {
   "cell_type": "markdown",
   "metadata": {},
   "source": [
    "- The automatic timing and regulation of traffic lights\n",
    "\n",
    "- A repetitive task that is at high risk for human error\n",
    "\n",
    "- Sending commands to a computer\n",
    "\n",
    "- Detecting and removing duplicates of data\n",
    "\n",
    "- Sending automated emails that are personalized by pulling individual names from a database and plugging them into the email \n",
    "\n",
    "- Updating a large number of file permissions\n",
    "\n",
    "- Reporting on system data, like disk or memory usage\n",
    "\n",
    "- Installing software\n",
    "\n",
    "- Generating reports\n",
    "\n",
    "- Deploying a file or a computer program to all computers on a company network\n",
    "\n",
    "- Using a configuration management system to deploy software patches, after a human has designed the system\n",
    "\n",
    "- Populating an e-commerce site with products\n",
    "\n",
    "- Setting the home directory and access permissions for users"
   ]
  },
  {
   "cell_type": "markdown",
   "metadata": {},
   "source": [
    "## Automation is not always an appropriate or complete solution"
   ]
  },
  {
   "cell_type": "markdown",
   "metadata": {},
   "source": [
    "Automation cannot perform all human work. Tasks that call for human creativity, social connection, psychology, flexibility, ingenuity, evaluation, and/or complex analytic work are not good candidates for full automation. Sometimes automation can be used to perform one or more subtasks of a larger set of tasks – but – human intervention is required to complete the tasks. The following are some examples of tasks that cannot or should not be fully automated:"
   ]
  },
  {
   "cell_type": "markdown",
   "metadata": {},
   "source": [
    "- Items that require human evaluation and analytic skills:\n",
    "  + Designing a configuration management system\n",
    "  + Investigating and troubleshooting all end user problems\n",
    "  + Writing a computer program\n",
    "  + Building a new startup business\n",
    "\n",
    "- Items that require human creativity and/or an eye for aesthetic qualities:\n",
    "  + Designing an attractive webpage (AI can do this, but simple automation cannot) \n",
    "  + Wedding photography\n",
    "  + Haircuts and styling\n",
    "\n",
    "- Items that cannot be automated due to basic physics:\n",
    "  + Troubleshooting or repairing machines that cannot power on or boot up \n",
    "\n",
    "- Items that need human interaction, psychology, and/or evaluation skills:\n",
    "  + Interviewing and hiring new employees\n",
    "  + Customer service (chat bots cannot address every customer service need)\n",
    "\n",
    "- Items that should not be fully automated due to costs and safety:\n",
    "  + Grocery store checkout process, including bagging groceries\n",
    "  + Tasks that are less expensive to perform manually"
   ]
  },
  {
   "cell_type": "markdown",
   "metadata": {},
   "source": [
    "## Artificial Intelligence"
   ]
  },
  {
   "cell_type": "markdown",
   "metadata": {},
   "source": [
    "It is important to understand that basic automation is not the same as artificial intelligence. Automation is used to explicitly instruct a machine on how to perform a task. Artificial intelligence (AI) involves training a computing machine to perform more complex tasks through a process called machine learning. This process prepares the AI software to perform new tasks without a human needing to program explicit instructions for each task. Although AI is often used for automating human tasks, AI automation is much more complex than basic automation."
   ]
  }
 ],
 "metadata": {
  "language_info": {
   "name": "python"
  }
 },
 "nbformat": 4,
 "nbformat_minor": 2
}
