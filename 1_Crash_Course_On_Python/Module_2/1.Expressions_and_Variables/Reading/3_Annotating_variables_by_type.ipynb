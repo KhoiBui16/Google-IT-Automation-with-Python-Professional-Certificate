{
 "cells": [
  {
   "cell_type": "markdown",
   "metadata": {},
   "source": [
    "# Annotating variables by type"
   ]
  },
  {
   "cell_type": "markdown",
   "metadata": {},
   "source": [
    "Trong một số ngôn ngữ lập trình, như Python, bạn có thể sử dụng `type annotations` để chỉ định kiểu dữ liệu của biến, giúp cải thiện tính rõ ràng và hỗ trợ các công cụ phân tích tĩnh."
   ]
  },
  {
   "cell_type": "markdown",
   "metadata": {},
   "source": [
    "`Type annotation` allows you to `clearly communicate the argument types` and `return type of functions` in your code. It’s like giving yourself and other developers `hints` about what `kind of data the variable` is supposed to hold. This has several benefits: It `reduces the chance of common mistakes`, `helps in documenting your code` for others `to reuse`, and `allows integrated development software (IDEs)` and other tools to give you better feedback."
   ]
  },
  {
   "cell_type": "markdown",
   "metadata": {},
   "source": [
    "In this reading, you will learn more about annotating variables by type and best practices."
   ]
  },
  {
   "cell_type": "markdown",
   "metadata": {},
   "source": [
    "## 1. How to annotate a variable "
   ]
  },
  {
   "cell_type": "markdown",
   "metadata": {},
   "source": [
    "Think of annotating a variable as if you were to put a label on a container—and anything in that container should hold what the label is describing. Let’s take a look at an example:"
   ]
  },
  {
   "cell_type": "code",
   "execution_count": 1,
   "metadata": {},
   "outputs": [],
   "source": [
    "name: str = \"Betty\"\n"
   ]
  },
  {
   "cell_type": "markdown",
   "metadata": {},
   "source": [
    "The variable name is declared using a `colon (:)` which is annotated with the type str, indicating that the name variable should hold a string value. And look, it does! `Betty—or` any name for that matter—is a string, and we know it’s a string because it is in quotes. Let’s look at another example where a variable holds an integer value."
   ]
  },
  {
   "cell_type": "code",
   "execution_count": 2,
   "metadata": {},
   "outputs": [],
   "source": [
    "age: int = 34\n"
   ]
  },
  {
   "cell_type": "markdown",
   "metadata": {},
   "source": [
    "> In this example, `age` is the variable, and `int` is the type annotation that provides you and other developers a `hint` that the age variable should store an integer value.\n",
    "\n",
    "\n",
    "> `Pro tip`: If a function expects a `list of integers`, you should annotate it as `List[int]`, not just List. Being specific with your types can `catch more potential bugs` and `misunderstandings`."
   ]
  },
  {
   "cell_type": "markdown",
   "metadata": {},
   "source": [
    "## 2. Dynamic typing"
   ]
  },
  {
   "cell_type": "markdown",
   "metadata": {},
   "source": [
    "Many languages, such as C# or Java, require you to `declare variable types`, but not Python. One of the great things about Python is that the type of variable can `change over time` as new values are assigned to it. For example: "
   ]
  },
  {
   "cell_type": "code",
   "execution_count": 12,
   "metadata": {},
   "outputs": [
    {
     "name": "stdout",
     "output_type": "stream",
     "text": [
      "3\tis\t<class 'int'>\n",
      "Hello world\tis\t<class 'str'>\n"
     ]
    }
   ],
   "source": [
    "a = 3                  #a is an integer\n",
    "print(a, type(a), sep = '\\tis\\t')\n",
    "a = \"Hello world\"      #a is now a string\n",
    "print(a, type(a), sep = '\\tis\\t')\n"
   ]
  },
  {
   "cell_type": "markdown",
   "metadata": {},
   "source": [
    "> `Dynamic typing` allows programmers to write code more `quickly` and offers `flexibility` because you don’t have to explicitly declare the type of variable."
   ]
  },
  {
   "cell_type": "markdown",
   "metadata": {},
   "source": [
    "Note: Python decides which of the built-in types the variable is and, therefore, how it should behave. For more information, refer to this article on [Built-in types](https://docs.python.org/3/library/stdtypes.html)\n"
   ]
  },
  {
   "cell_type": "markdown",
   "metadata": {},
   "source": [
    "## 3. Duck typing"
   ]
  },
  {
   "cell_type": "markdown",
   "metadata": {},
   "source": [
    "This form of typing comes from the saying, “If it walks like a duck and quacks like a duck, it must be a duck.” Python will infer the variable type at runtime and decide which behaviors are available to the given object."
   ]
  },
  {
   "cell_type": "code",
   "execution_count": 2,
   "metadata": {},
   "outputs": [],
   "source": [
    "a = \"Hello world\"      #looks like a string\n"
   ]
  },
  {
   "cell_type": "markdown",
   "metadata": {},
   "source": [
    "> Annotating variables with type comments"
   ]
  },
  {
   "cell_type": "markdown",
   "metadata": {},
   "source": [
    "- Another way to `annotate variables` is to use `type comments` where the interpreter will ignore the comments."
   ]
  },
  {
   "cell_type": "code",
   "execution_count": 3,
   "metadata": {},
   "outputs": [],
   "source": [
    "# Example:\n",
    "captain = \"Picard\"      # type: str\n"
   ]
  },
  {
   "cell_type": "markdown",
   "metadata": {},
   "source": [
    "> `Note`: This way of annotating variables might be useful for cases when you need to know what types belong to which variables but do not want the overhead of using a line interpreter (linter) or IDE on this specific variable."
   ]
  },
  {
   "cell_type": "markdown",
   "metadata": {},
   "source": [
    "## 4. Annotating variables directly"
   ]
  },
  {
   "cell_type": "markdown",
   "metadata": {},
   "source": [
    "Let’s use the same example above to annotate a variable directly."
   ]
  },
  {
   "cell_type": "code",
   "execution_count": 6,
   "metadata": {},
   "outputs": [],
   "source": [
    "captain: str = \"Picard\"\n"
   ]
  },
  {
   "cell_type": "markdown",
   "metadata": {},
   "source": [
    "> `Note`: You might hear annotating (chú thích) variables directly called the more “modern” way to annotate a variable.\n",
    "\n",
    "Another advantage is that you can use automated tools such as `linters`, or `mypy`, to check types to make code more resilient. Most modern IDEs, such as VS Code and JetBrains PyCharm, scan code for type annotations and can use it to help you write better code more quickly!"
   ]
  },
  {
   "cell_type": "markdown",
   "metadata": {},
   "source": [
    "## 5. How type annotations affect runtime behavior"
   ]
  },
  {
   "cell_type": "markdown",
   "metadata": {},
   "source": [
    "Any time a library is called, or an IDE works to scan your code, more computational overhead is required.\n",
    "\n",
    "> `Pro tip`: Be strategic when annotating variables by type. This can add unnecessary overhead when overused.\n",
    "\n",
    "`Type annotation` is `less common with Python` users in data science, as it can `be burdensome` to manually map data every time a new set of data comes in. On the other hand, when doing `object-oriented programming` or `writing functions`, using `type annotations becomes extremely important` because it helps `clarify code` since you are dealing with more than just the built-in types."
   ]
  },
  {
   "cell_type": "markdown",
   "metadata": {},
   "source": [
    "## 6. Key takeaways"
   ]
  },
  {
   "cell_type": "markdown",
   "metadata": {},
   "source": [
    "Annotating variables by type provides programmers with benefits to `make the code easier to read and understand`. Python provides different options on how to annotate variables, so choose how you want to annotate them. Just be cautious of over-annotating, creating unnecessary overhead to your code."
   ]
  },
  {
   "cell_type": "markdown",
   "metadata": {},
   "source": [
    "## 7. Resources for more information"
   ]
  },
  {
   "cell_type": "markdown",
   "metadata": {},
   "source": [
    "- [Python built-in types](https://docs.python.org/3/library/stdtypes.html)\n",
    "\n",
    "  \n",
    "\n"
   ]
  }
 ],
 "metadata": {
  "kernelspec": {
   "display_name": "khoibui",
   "language": "python",
   "name": "python3"
  },
  "language_info": {
   "codemirror_mode": {
    "name": "ipython",
    "version": 3
   },
   "file_extension": ".py",
   "mimetype": "text/x-python",
   "name": "python",
   "nbconvert_exporter": "python",
   "pygments_lexer": "ipython3",
   "version": "3.12.3"
  }
 },
 "nbformat": 4,
 "nbformat_minor": 2
}
