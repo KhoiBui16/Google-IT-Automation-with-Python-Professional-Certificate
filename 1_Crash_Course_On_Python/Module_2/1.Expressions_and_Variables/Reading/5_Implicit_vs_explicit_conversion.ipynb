{
 "cells": [
  {
   "cell_type": "markdown",
   "metadata": {},
   "source": [
    "# Implicit vs explicit conversion"
   ]
  },
  {
   "cell_type": "markdown",
   "metadata": {},
   "source": [
    "As we saw earlier in the video, some data types can be `mixed` and `matched` due to `implicit conversion`. Implicit conversion (`automatic type conversion`) is where the interpreter helps us out and automatically converts one data type into another, without having to explicitly tell it to do so.\n",
    "\n",
    "By contrast, explicit conversion is where we manually convert from one data type to another by calling the relevant function for the data type we want to convert to. We used this in our video example when we wanted to print a number alongside some text. Before we could do that, we needed to call the str() function to convert the number into a string. Once the number was explicitly converted to a string, we could join it with the rest of our textual string and print the result."
   ]
  }
 ],
 "metadata": {
  "language_info": {
   "name": "python"
  }
 },
 "nbformat": 4,
 "nbformat_minor": 2
}
