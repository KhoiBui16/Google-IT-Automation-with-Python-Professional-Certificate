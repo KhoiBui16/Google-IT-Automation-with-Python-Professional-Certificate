{
 "cells": [
  {
   "cell_type": "markdown",
   "metadata": {},
   "source": [
    "# Study guide: Functions\n"
   ]
  },
  {
   "cell_type": "markdown",
   "metadata": {},
   "source": [
    "This study guide provides a `quick-reference summary` of what you learned in this lesson and serves as a guide for the upcoming practice quiz.  \n",
    "\n",
    "In the Functions segment, you learned how to `define` and `call functions`, `utilize a function’s parameters`, and `return data from a function`. You also learned how to `differentiate` and `convert between different data types utilizing variables`. Plus, you learned a few best practices for `writing reusable` and `readable code.` "
   ]
  },
  {
   "cell_type": "markdown",
   "metadata": {},
   "source": [
    "## 1. Terms"
   ]
  },
  {
   "cell_type": "markdown",
   "metadata": {},
   "source": [
    "- `return value` - the value or variable returned as the end result of a function\n",
    "\n",
    "- `parameter (argument)` -  a value passed into a function for use within the function\n",
    "\n",
    "- `refactoring code` - a process to `restructure code` without changing functionality"
   ]
  },
  {
   "cell_type": "markdown",
   "metadata": {},
   "source": [
    "## 2. Knowledge"
   ]
  },
  {
   "cell_type": "markdown",
   "metadata": {},
   "source": [
    "- The `purpose of the def() keyword` is to `define` a new function. \n",
    "\n",
    "- `Best practices` for writing code that is `readable` and `reusable`:\n",
    "\n",
    "  + `Create a reusable function` - `Replace duplicate code with one reusable function` to make the `code easier` to `read` and `repurpose`.\n",
    "\n",
    "  + `Refactor code` - `Update code` so that it is `self-documenting` and the intent of the code is `clear`.\n",
    "\n",
    "  + `Add comments` - Adding comments is part of `creating self-documenting code`. Using comments allows you to `leave notes to yourself` and/or other programmers to make the purpose of the code clear."
   ]
  },
  {
   "cell_type": "markdown",
   "metadata": {},
   "source": [
    "## 3. Coding skills"
   ]
  },
  {
   "cell_type": "markdown",
   "metadata": {},
   "source": [
    "- Skill Group 1\n",
    "  + Use a function that accepts multiple parameters\n",
    "  + Retrn a result value"
   ]
  },
  {
   "cell_type": "code",
   "execution_count": 1,
   "metadata": {},
   "outputs": [
    {
     "name": "stdout",
     "output_type": "stream",
     "text": [
      "903\n"
     ]
    }
   ],
   "source": [
    "# This function calculates the number of days in a variable number of\n",
    "# years, months, and days. These variables are provided by the user and\n",
    "# are passed to the function through the function’s parameters.\n",
    "def find_total_days(years, months, days):\n",
    "    # Assign a variable to hold the calculations for the number of days in\n",
    "    # a year (years*365) plus the number of days in a month (months*30) plus\n",
    "    # the number of days provided through the \"days\" parameter variable.\n",
    "    my_days = (years * 365) + (months * 30) + days\n",
    "    # Use the \"return\" keyword to send the result of the \"my_days\"\n",
    "    # calculation to the function call.\n",
    "    return my_days\n",
    "\n",
    "\n",
    "# Function call with user provided parameter values.\n",
    "print(find_total_days(2, 5, 23))\n"
   ]
  },
  {
   "cell_type": "markdown",
   "metadata": {},
   "source": [
    "- Skill Group 2\n",
    "\n",
    "  + Use a function to return the result of a measurement conversion\n",
    "\n",
    "  + Use arithmetic operators to perform a calculation\n",
    "\n",
    "  + Combine text with a function call within a print() statement\n",
    "\n",
    "  + Convert the return value from a float data type to a string for the print() function\n",
    "\n",
    "  + Call the function and perform a calculation on the return value within a print() statement\n"
   ]
  },
  {
   "cell_type": "code",
   "execution_count": 2,
   "metadata": {},
   "outputs": [
    {
     "name": "stdout",
     "output_type": "stream",
     "text": [
      "The volume in milliliters is 59.0\n",
      "The volume in milliliters is 118.0\n"
     ]
    }
   ],
   "source": [
    "# This function converts fluid ounces to milliliters and returns the\n",
    "# result of the conversion.\n",
    "def convert_volume(fluid_ounce):\n",
    "    # Calculate value of the \"ml\" variable using the parameter variable\n",
    "    # \"fluid_ounce\". There are approximately 29.5 milliliters in 1 fluid\n",
    "    # ounce.\n",
    "    ml = fluid_ounce * 29.5\n",
    "    # Return the result of the calculation.\n",
    "    return ml\n",
    "\n",
    "\n",
    "# Call the conversion from within the print() function using 2 fluid\n",
    "# ounces. Convert the return value from a float to a string.\n",
    "print(\"The volume in milliliters is \" + str(convert_volume(2)))\n",
    "\n",
    "# Call the function again and double the 2 fluid ounces from within\n",
    "# the print function.\n",
    "print(\"The volume in milliliters is \" + str(convert_volume(2) * 2))\n",
    "# Alternative calculation:\n",
    "# print(\"The volume in milliliters is \" + str(convert_volume(4))\n"
   ]
  },
  {
   "cell_type": "markdown",
   "metadata": {},
   "source": [
    "- Python practice information:\n",
    "\n",
    "- For additional Python practice, the following links will take you to several popular online interpreters and codepads:\n",
    "\n",
    "  + [Welcome to Python](https://www.python.org/shell/)\n",
    "   \n",
    "  + [Online Python Interpreter](https://www.onlinegdb.com/online_python_interpreter)\n",
    "   \n",
    "  + [Create a new Repl](https://replit.com/languages/python3)\n",
    "   \n",
    "  + [Online Python-3 Compiler (Interpreter)](https://www.tutorialspoint.com/online_python_compiler.php)\n",
    "\n",
    "  + [Compile Python 3 Online](https://rextester.com/l/python3_online_compiler)\n",
    "\n",
    "  + [Your Python Trinket](https://trinket.io/python3)"
   ]
  }
 ],
 "metadata": {
  "kernelspec": {
   "display_name": "khoibui",
   "language": "python",
   "name": "python3"
  },
  "language_info": {
   "codemirror_mode": {
    "name": "ipython",
    "version": 3
   },
   "file_extension": ".py",
   "mimetype": "text/x-python",
   "name": "python",
   "nbconvert_exporter": "python",
   "pygments_lexer": "ipython3",
   "version": "3.12.3"
  }
 },
 "nbformat": 4,
 "nbformat_minor": 2
}
