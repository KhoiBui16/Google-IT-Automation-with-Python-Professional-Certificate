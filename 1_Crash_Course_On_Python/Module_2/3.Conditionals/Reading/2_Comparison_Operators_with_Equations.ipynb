{
 "cells": [
  {
   "cell_type": "markdown",
   "metadata": {},
   "source": [
    "# Comparison Operators with Equations"
   ]
  },
  {
   "cell_type": "markdown",
   "metadata": {},
   "source": [
    "The following examples demonstrate how to use comparison operators with the data types `int` (integers, whole numbers) and `float` (number with a decimal point or fractional value). `Comparison operators return Boolean results`. As you learned previously, Boolean is a data type that can hold `only one of two values`: True or False.  "
   ]
  },
  {
   "cell_type": "markdown",
   "metadata": {},
   "source": [
    "The comparison operators include: "
   ]
  },
  {
   "cell_type": "code",
   "execution_count": null,
   "metadata": {},
   "outputs": [],
   "source": [
    "# ==    (equality) \n",
    "\n",
    "# !=     (not equal to) \n",
    "\n",
    "# >       (greater than)\n",
    "\n",
    "# <      (less than)\n",
    "\n",
    "# >=    (greater than or equal to)\n",
    "\n",
    "# <=    (less than or equal to)\n"
   ]
  },
  {
   "cell_type": "markdown",
   "metadata": {},
   "source": [
    "## 1. PART 1: Equality == and Not Equal To != Operators"
   ]
  },
  {
   "cell_type": "markdown",
   "metadata": {},
   "source": [
    "In Python, you can use comparison operators to compare values. When a comparison is made, Python returns a Boolean result: True or False. Note that Boolean data types are not string data types (Boolean True is not equal to the string \"True\").  \n",
    "\n",
    "To check if two values are the same, use the equality operator: == \n",
    "\n",
    "To check if two values are not the same, use the not equal to operator: != \n",
    "\n",
    "The print() function can be used to display the results of the comparisons."
   ]
  },
  {
   "cell_type": "markdown",
   "metadata": {},
   "source": [
    "Examples:"
   ]
  },
  {
   "cell_type": "code",
   "execution_count": 1,
   "metadata": {},
   "outputs": [
    {
     "name": "stdout",
     "output_type": "stream",
     "text": [
      "True\n",
      "False\n",
      "True\n",
      "False\n"
     ]
    },
    {
     "data": {
      "text/plain": [
       "False"
      ]
     },
     "execution_count": 1,
     "metadata": {},
     "output_type": "execute_result"
    }
   ],
   "source": [
    "\n",
    "print(32 == 30+2)   # The == operator checks if the 2 values are \n",
    "True                # equal to each other. If they are equal, \n",
    "                    # Python returns a True result.\n",
    "\n",
    "\n",
    "print(5+10 == 6+7)  # If the two values are not equal, as in the\n",
    "False               # expression 5+10 == 6+7 (or 15 == 13), Python          \n",
    "                    # returns a False result.\n",
    "\n",
    "\n",
    "print(10-4 != 10+4) # The != operator checks if the 2 values are\n",
    "True                # NOT equal to each other. If true, Python              \n",
    "                    # returns a True result. \n",
    "\n",
    "\n",
    "print(9/3 != 3*1)   # In this last example, 9/3 != 3*1 (or 3 != 3)\n",
    "False               # is false. So, Python returns a False value.\n"
   ]
  },
  {
   "cell_type": "markdown",
   "metadata": {},
   "source": [
    "### The equality == operator versus the equals = operator "
   ]
  },
  {
   "cell_type": "markdown",
   "metadata": {},
   "source": [
    "It is important to note that the equality == comparison operator performs a different task than the equals = assignment operator. The equals = operator assigns the value on the right side of the equals = to the object (e.g., a variable) on the left side of the equals = operator. "
   ]
  },
  {
   "cell_type": "markdown",
   "metadata": {},
   "source": [
    "Examples:"
   ]
  },
  {
   "cell_type": "code",
   "execution_count": 2,
   "metadata": {},
   "outputs": [
    {
     "name": "stdout",
     "output_type": "stream",
     "text": [
      "15\n",
      "True\n"
     ]
    },
    {
     "data": {
      "text/plain": [
       "True"
      ]
     },
     "execution_count": 2,
     "metadata": {},
     "output_type": "execute_result"
    }
   ],
   "source": [
    "# The = equals assignment operator is used to assign a value to a\n",
    "# variable.\n",
    "\n",
    "my_variable = 3 * 5  # Assigns a value to my_variable\n",
    "print(my_variable)  # Printing the variable returns the\n",
    "15  # value assigned to the variable.\n",
    "\n",
    "\n",
    "# The == equality comparison operator checks if the values of the two\n",
    "# expressions on either side of the == operator are equivalent to one\n",
    "# another.\n",
    "\n",
    "print(my_variable == 3 * 5)  # Printing the variable returns a Boolean\n",
    "True  # True or False result.\n"
   ]
  },
  {
   "cell_type": "markdown",
   "metadata": {},
   "source": [
    "## 2. PART 2: Greater Than > and Less Than < Operators"
   ]
  },
  {
   "cell_type": "markdown",
   "metadata": {},
   "source": [
    "The comparison operators greater than > and less than < also return a True or False Boolean result after comparing two values.\n",
    "\n",
    "To check if one value is larger than another value, use the greater than operator: > \n",
    "\n",
    "To check if one value is smaller than another value, use the less than operator: < "
   ]
  },
  {
   "cell_type": "markdown",
   "metadata": {},
   "source": [
    "Examples:"
   ]
  },
  {
   "cell_type": "code",
   "execution_count": 3,
   "metadata": {},
   "outputs": [
    {
     "name": "stdout",
     "output_type": "stream",
     "text": [
      "True\n",
      "False\n",
      "True\n",
      "False\n"
     ]
    },
    {
     "data": {
      "text/plain": [
       "False"
      ]
     },
     "execution_count": 3,
     "metadata": {},
     "output_type": "execute_result"
    }
   ],
   "source": [
    "\n",
    "print(11 > 3*3)         # The > operator checks if the left value is\n",
    "True                    # greater than the right value. If true, it\n",
    "                        # returns a True result.\n",
    "\n",
    "\n",
    "print(4/2 > 8-4)        # If the > operator finds that the left value\n",
    "False                   # is NOT greater than the right value, the\n",
    "                        # comparison will return a False result.\n",
    "\n",
    "\n",
    "print(4/2 < 8-4)        # The < operator checks  if the left value is\n",
    "True                    # less than the right side. If true, the\n",
    "                        # comparison returns a True result.\n",
    "\n",
    "\n",
    "print(11 < 3*3)         # If the < operator finds that the left side is False                   \n",
    "                        # NOT less than the right value, Python returns\n",
    "False                   # a False result.\n"
   ]
  },
  {
   "cell_type": "markdown",
   "metadata": {},
   "source": [
    "## 3. PART 3: Greater Than or Equal to >= and Less Than or Equal to <= Operators\n"
   ]
  },
  {
   "cell_type": "markdown",
   "metadata": {},
   "source": [
    "Like the other comparison operators, the greater than or equal to >= and less than or equal to <= operators return a True or False Boolean result when a comparison is made.\n",
    "\n",
    "To check if one value is larger than or equal to another value, use the greater than or equal to operator: >= \n",
    "\n",
    "To check if one value is smaller than or equal to another value, use the less than or equal to operator: <=\n"
   ]
  },
  {
   "cell_type": "markdown",
   "metadata": {},
   "source": [
    "Examples:\n"
   ]
  },
  {
   "cell_type": "code",
   "execution_count": 5,
   "metadata": {},
   "outputs": [
    {
     "name": "stdout",
     "output_type": "stream",
     "text": [
      "True\n",
      "False\n",
      "True\n",
      "False\n"
     ]
    },
    {
     "data": {
      "text/plain": [
       "False"
      ]
     },
     "execution_count": 5,
     "metadata": {},
     "output_type": "execute_result"
    }
   ],
   "source": [
    "\n",
    "print(12*2 >= 24)   # The >= operator checks if the left value is\n",
    "True                # greater than or equal to the right value. \n",
    "                    # If one of these conditions is true,  \n",
    "                    # Python returns a True result. In this case  \n",
    "                    # the two values are equal. So, the comparison\n",
    "                    # returns a True result.\n",
    "\n",
    "\n",
    "print(18/2 >= 15)   # If the >= comparison determines that the left\n",
    "False               # value is NOT greater than or equal to the\n",
    "                    # right, it returns a False result.\n",
    "\n",
    "print(12*2 <= 30)   # The <= operator checks if the left value is\n",
    "True                # less than or equal to the right value. In \n",
    "                    # this case, the left value is less than the\n",
    "                    # right value. Again, if one of the two \n",
    "                    # conditions is true, Python returns a True\n",
    "                    # result.\n",
    "\n",
    "\n",
    "print(15 <= 18/2)   # If the <= comparison determines that the left \n",
    "False               # value is NOT less than or equal to the right\n",
    "                    # value, the comparison returns a False result. \n"
   ]
  },
  {
   "cell_type": "markdown",
   "metadata": {},
   "source": [
    "## 4. PART 4: Practice"
   ]
  },
  {
   "cell_type": "markdown",
   "metadata": {},
   "source": [
    "If you would like more practice using comparison operators, feel free to create your own comparisons using the code block below. Note that there is no feedback associated with this code block. \n",
    "\n",
    "1\n"
   ]
  },
  {
   "cell_type": "code",
   "execution_count": null,
   "metadata": {},
   "outputs": [],
   "source": []
  },
  {
   "cell_type": "markdown",
   "metadata": {},
   "source": [
    "## 5. For additional Python practice, the following links will take you to several popular online interpreters and codepads:"
   ]
  },
  {
   "cell_type": "markdown",
   "metadata": {},
   "source": [
    "- [Welcome to Python](https://www.python.org/shell/)\n",
    " \n",
    "- [Online Python Interpreter](https://www.onlinegdb.com/online_python_interpreter)\n",
    " \n",
    "- [Create a new Repl](https://replit.com/languages/python3)\n",
    " \n",
    "- [Online Python-3 Compiler (Interpreter)](https://www.tutorialspoint.com/online_python_compiler.php)\n",
    "\n",
    "- [Compile Python 3 Online](https://rextester.com/l/python3_online_compiler)\n",
    "\n",
    "- [Your Python Trinket](https://trinket.io/python3)"
   ]
  },
  {
   "cell_type": "markdown",
   "metadata": {},
   "source": [
    "## 6. Key takeaways"
   ]
  },
  {
   "cell_type": "markdown",
   "metadata": {},
   "source": [
    "**Python comparison operators return Boolean results: `True` or `False`.**\n",
    "\n",
    "| Symbol | Name                           | Expression | Description                            |\n",
    "|--------|--------------------------------|------------|----------------------------------------|\n",
    "| `==`   | Equality operator              | `a == b`   | a is equal to b                        |\n",
    "| `!=`   | Not equal to operator          | `a != b`   | a is **not** equal to b                |\n",
    "| `>`    | Greater than operator          | `a > b`    | a is larger than b                     |\n",
    "| `>=`   | Greater than or equal to operator | `a >= b`   | a is larger than or equal to b         |\n",
    "| `<`    | Less than operator             | `a < b`    | a is smaller than b                    |\n",
    "| `<=`   | Less than or equal to operator | `a <= b`   | a is smaller than or equal to b        |\n"
   ]
  },
  {
   "cell_type": "markdown",
   "metadata": {},
   "source": [
    "## 7. Resources for more information"
   ]
  },
  {
   "cell_type": "markdown",
   "metadata": {},
   "source": [
    "- For more information about the concepts covered in these practice exercises, please visit:\n",
    "\n",
    "+ [Order of Operations](https://www.mathsisfun.com/operation-order-pemdas.html) - A refresher on the mathematical Order of Operations. \n",
    "\n",
    "+ [Python Comparison Operators with Syntax and Example](https://data-flair.training/blogs/python-comparison-operators/) - Provides examples of more complex comparisons.\n",
    "\n",
    "+ [Raise numbers to a power: here’s how to exponentiate in Python](https://kodify.net/python/math/exponents/) - Explains multiple methods for calculating exponents in Python."
   ]
  }
 ],
 "metadata": {
  "kernelspec": {
   "display_name": "khoibui",
   "language": "python",
   "name": "python3"
  },
  "language_info": {
   "codemirror_mode": {
    "name": "ipython",
    "version": 3
   },
   "file_extension": ".py",
   "mimetype": "text/x-python",
   "name": "python",
   "nbconvert_exporter": "python",
   "pygments_lexer": "ipython3",
   "version": "3.12.3"
  }
 },
 "nbformat": 4,
 "nbformat_minor": 2
}
