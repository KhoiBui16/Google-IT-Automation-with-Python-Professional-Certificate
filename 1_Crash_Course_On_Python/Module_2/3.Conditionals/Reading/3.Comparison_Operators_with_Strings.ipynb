{
 "cells": [
  {
   "cell_type": "markdown",
   "metadata": {},
   "source": [
    "# Comparison Operators with Strings"
   ]
  },
  {
   "cell_type": "markdown",
   "metadata": {},
   "source": [
    "In this reading, you will learn more about what comparison operators can and cannot do. If you use the `== (equality)` and `!= (not equal to)` operators `with strings`, you can check if two strings contain the same text or not. You can also alphabetize strings using `> (greater than)`, `< (less than)`, `>= (greater than or equal to)`, `<= (less than or equal to)` comparison operators. As with numeric `data types`, comparison operators used `with strings` will `return Boolean (True, False)` results.  "
   ]
  },
  {
   "cell_type": "markdown",
   "metadata": {},
   "source": [
    "## 1. PART 1: Equality == and Not Equal to != Operators with Strings"
   ]
  },
  {
   "cell_type": "markdown",
   "metadata": {},
   "source": [
    "In Python, you can use comparison operators to compare strings. The equality == and the not equal to != operators are helpful when you need to search for a specific string in a body of text, a log file, a spreadsheet, a database, and more. You can also check user input strings to compare them to another string. Note that Boolean data types are not string data types (Boolean True is not equal to the string \"True\").  "
   ]
  },
  {
   "cell_type": "markdown",
   "metadata": {},
   "source": [
    "Examples:"
   ]
  },
  {
   "cell_type": "code",
   "execution_count": 1,
   "metadata": {},
   "outputs": [
    {
     "name": "stdout",
     "output_type": "stream",
     "text": [
      "True\n",
      "False\n",
      "True\n",
      "False\n",
      "False\n"
     ]
    },
    {
     "data": {
      "text/plain": [
       "False"
      ]
     },
     "execution_count": 1,
     "metadata": {},
     "output_type": "execute_result"
    }
   ],
   "source": [
    "# The == operator can check if two strings are equal to each other. \n",
    "# If they are equal, the Python interpreter returns a True result.\n",
    "print(\"a string\" == \"a string\")\n",
    "True\n",
    "\n",
    "\n",
    "# In this example, the equality == comparison is between \"4 + 5\" and\n",
    "# 4 + 5. Since the left data type is a string and the right data type\n",
    "# is an integer, the two values cannot be equal. So, the comparison\n",
    "# returns a False result.\n",
    "print(\"4 + 5\" == 4 + 5)\n",
    "False\n",
    "\n",
    "\n",
    "# The != operator can check if the two strings are NOT equal to each\n",
    "# other. If they are indeed not equal, then Python returns a True result.\n",
    "print(\"rabbit\" != \"frog\")\n",
    "True\n",
    "\n",
    "\n",
    "# In this example, the variable event_city has been assigned the string \n",
    "# value \"Shanghai\". This variable is compared to a static string, \n",
    "# \"Shanghai\", using the != operator. As, the strings \"Shanghai\" and \n",
    "# \"Shanghai\" are the same, the comparison of \"Shanghai\" != \"Shanghai\" \n",
    "# is false. Accordingly, Python will return a False result.\n",
    "event_city = \"Shanghai\"\n",
    "print(event_city != \"Shanghai\")\n",
    "False\n",
    "\n",
    "# This last example illustrates the result of trying to compare two\n",
    "# items of different data types using the equality == operator. The\n",
    "# two items are not equal, so the comparison returns False.\n",
    "print(\"three\" == 3)\n",
    "False\n"
   ]
  },
  {
   "cell_type": "markdown",
   "metadata": {},
   "source": [
    "## 2. PART 2: The Greater Than > and Less Than < Operators"
   ]
  },
  {
   "cell_type": "markdown",
   "metadata": {},
   "source": [
    "The comparison operators greater than > and less than < can be used to alphabetize words in Python. The letters of the alphabet have numeric codes in Unicode (also known as ASCII values). The uppercase letters A to Z are represented by the Unicode values 65 to 90. The lowercase letters a to z are represented by the Unicode values 97 to 122. "
   ]
  },
  {
   "cell_type": "markdown",
   "metadata": {},
   "source": [
    "<table>\n",
    "  <tr>\n",
    "    <th colspan=\"2\" style=\"background-color: #d0d8ec;\">Uppercase</th>\n",
    "    <th colspan=\"2\" style=\"background-color: #d0d8ec;\">Uppercase</th>\n",
    "    <th colspan=\"2\" style=\"background-color: #d0d8ec;\">Lowercase</th>\n",
    "    <th colspan=\"2\" style=\"background-color: #d0d8ec;\">Lowercase</th>\n",
    "  </tr>\n",
    "  <tr>\n",
    "    <th>Unicode #</th>\n",
    "    <th>Character</th>\n",
    "    <th>Unicode #</th>\n",
    "    <th>Character</th>\n",
    "    <th>Unicode #</th>\n",
    "    <th>Character</th>\n",
    "    <th>Unicode #</th>\n",
    "    <th>Character</th>\n",
    "  </tr>\n",
    "  <tr>\n",
    "    <td>65</td>\n",
    "    <td>A</td>\n",
    "    <td>78</td>\n",
    "    <td>N</td>\n",
    "    <td>97</td>\n",
    "    <td>a</td>\n",
    "    <td>110</td>\n",
    "    <td>n</td>\n",
    "  </tr>\n",
    "  <tr>\n",
    "    <td>66</td>\n",
    "    <td>B</td>\n",
    "    <td>79</td>\n",
    "    <td>O</td>\n",
    "    <td>98</td>\n",
    "    <td>b</td>\n",
    "    <td>111</td>\n",
    "    <td>o</td>\n",
    "  </tr>\n",
    "  <tr>\n",
    "    <td>67</td>\n",
    "    <td>C</td>\n",
    "    <td>80</td>\n",
    "    <td>P</td>\n",
    "    <td>99</td>\n",
    "    <td>c</td>\n",
    "    <td>112</td>\n",
    "    <td>p</td>\n",
    "  </tr>\n",
    "  <tr>\n",
    "    <td>68</td>\n",
    "    <td>D</td>\n",
    "    <td>81</td>\n",
    "    <td>Q</td>\n",
    "    <td>100</td>\n",
    "    <td>d</td>\n",
    "    <td>113</td>\n",
    "    <td>q</td>\n",
    "  </tr>\n",
    "  <tr>\n",
    "    <td>69</td>\n",
    "    <td>E</td>\n",
    "    <td>82</td>\n",
    "    <td>R</td>\n",
    "    <td>101</td>\n",
    "    <td>e</td>\n",
    "    <td>114</td>\n",
    "    <td>r</td>\n",
    "  </tr>\n",
    "  <tr>\n",
    "    <td>70</td>\n",
    "    <td>F</td>\n",
    "    <td>83</td>\n",
    "    <td>S</td>\n",
    "    <td>102</td>\n",
    "    <td>f</td>\n",
    "    <td>115</td>\n",
    "    <td>s</td>\n",
    "  </tr>\n",
    "  <tr>\n",
    "    <td>71</td>\n",
    "    <td>G</td>\n",
    "    <td>84</td>\n",
    "    <td>T</td>\n",
    "    <td>103</td>\n",
    "    <td>g</td>\n",
    "    <td>116</td>\n",
    "    <td>t</td>\n",
    "  </tr>\n",
    "  <tr>\n",
    "    <td>72</td>\n",
    "    <td>H</td>\n",
    "    <td>85</td>\n",
    "    <td>U</td>\n",
    "    <td>104</td>\n",
    "    <td>h</td>\n",
    "    <td>117</td>\n",
    "    <td>u</td>\n",
    "  </tr>\n",
    "  <tr>\n",
    "    <td>73</td>\n",
    "    <td>I</td>\n",
    "    <td>86</td>\n",
    "    <td>V</td>\n",
    "    <td>105</td>\n",
    "    <td>i</td>\n",
    "    <td>118</td>\n",
    "    <td>v</td>\n",
    "  </tr>\n",
    "  <tr>\n",
    "    <td>74</td>\n",
    "    <td>J</td>\n",
    "    <td>87</td>\n",
    "    <td>W</td>\n",
    "    <td>106</td>\n",
    "    <td>j</td>\n",
    "    <td>119</td>\n",
    "    <td>w</td>\n",
    "  </tr>\n",
    "  <tr>\n",
    "    <td>75</td>\n",
    "    <td>K</td>\n",
    "    <td>88</td>\n",
    "    <td>X</td>\n",
    "    <td>107</td>\n",
    "    <td>k</td>\n",
    "    <td>120</td>\n",
    "    <td>x</td>\n",
    "  </tr>\n",
    "  <tr>\n",
    "    <td>76</td>\n",
    "    <td>L</td>\n",
    "    <td>89</td>\n",
    "    <td>Y</td>\n",
    "    <td>108</td>\n",
    "    <td>l</td>\n",
    "    <td>121</td>\n",
    "    <td>y</td>\n",
    "  </tr>\n",
    "  <tr>\n",
    "    <td>77</td>\n",
    "    <td>M</td>\n",
    "    <td>90</td>\n",
    "    <td>Z</td>\n",
    "    <td>109</td>\n",
    "    <td>m</td>\n",
    "    <td>122</td>\n",
    "    <td>z</td>\n",
    "  </tr>\n",
    "</table>\n"
   ]
  },
  {
   "cell_type": "markdown",
   "metadata": {},
   "source": [
    "To check if the first letter(s) of a string have a larger Unicode value (meaning the letter is closer to 122 or lowercase z) than the first letter of another string, use the greater than operator: >\n",
    "\n",
    "To check if the first letter(s) of a string have a smaller Unicode value (meaning the letter is closer to 65 or uppercase A) than the first letter of another string, use the less than operator: < \n"
   ]
  },
  {
   "cell_type": "markdown",
   "metadata": {},
   "source": [
    "> Like numeric comparisons with the greater than > and less than < operators, comparisons between strings also return Boolean True or False results."
   ]
  },
  {
   "cell_type": "markdown",
   "metadata": {},
   "source": [
    "Examples:  "
   ]
  },
  {
   "cell_type": "code",
   "execution_count": 3,
   "metadata": {},
   "outputs": [
    {
     "name": "stdout",
     "output_type": "stream",
     "text": [
      "True\n",
      "True\n",
      "False\n",
      "False\n"
     ]
    },
    {
     "ename": "TypeError",
     "evalue": "'<' not supported between instances of 'str' and 'int'",
     "output_type": "error",
     "traceback": [
      "\u001b[1;31m---------------------------------------------------------------------------\u001b[0m",
      "\u001b[1;31mTypeError\u001b[0m                                 Traceback (most recent call last)",
      "Cell \u001b[1;32mIn[3], line 44\u001b[0m\n\u001b[0;32m     37\u001b[0m \u001b[38;5;28;01mFalse\u001b[39;00m\n\u001b[0;32m     40\u001b[0m \u001b[38;5;66;03m# This last example illustrates the result of trying to compare two\u001b[39;00m\n\u001b[0;32m     41\u001b[0m \u001b[38;5;66;03m# items of different data types using the less than < operator. The \u001b[39;00m\n\u001b[0;32m     42\u001b[0m \u001b[38;5;66;03m# greater than > and less than operators < cannot be used to compare\u001b[39;00m\n\u001b[0;32m     43\u001b[0m \u001b[38;5;66;03m# two different data types. \u001b[39;00m\n\u001b[1;32m---> 44\u001b[0m \u001b[38;5;28mprint\u001b[39m(\u001b[38;5;124m\"\u001b[39m\u001b[38;5;124mFive\u001b[39m\u001b[38;5;124m\"\u001b[39m \u001b[38;5;241m<\u001b[39m \u001b[38;5;241m6\u001b[39m)\n\u001b[0;32m     45\u001b[0m \u001b[38;5;124;03m\"\"\"\u001b[39;00m\n\u001b[0;32m     46\u001b[0m \u001b[38;5;124;03mError on line 1:\u001b[39;00m\n\u001b[0;32m     47\u001b[0m \u001b[38;5;124;03m    print(\"Five\" < 6)\u001b[39;00m\n\u001b[0;32m     48\u001b[0m \u001b[38;5;124;03mTypeError: '<' not supported between instances of 'str' and 'int'\u001b[39;00m\n\u001b[0;32m     49\u001b[0m \u001b[38;5;124;03m\"\"\"\u001b[39;00m\n",
      "\u001b[1;31mTypeError\u001b[0m: '<' not supported between instances of 'str' and 'int'"
     ]
    }
   ],
   "source": [
    "# The greater than > operator checks if the left string has a higher \n",
    "# Unicode value than the right string. If true, the Python interpreter\n",
    "# returns a True result. Since W has a Unicode value of 87, and you can \n",
    "# easily calculate that F has a Unicode value of 70, this comparison is\n",
    "# the same as 87 > 70. As this is true, Python will return a True \n",
    "# result.\n",
    "print(\"Wednesday\" > \"Friday\")\n",
    "True\n",
    " \n",
    " \n",
    "# The less than < operator checks if the left string has a lower \n",
    "# Unicode value than the right string. If you reference the Unicode \n",
    "# chart above, you can see that all lowercase letters have higher \n",
    "# Unicode values than uppercase letters. We can see that B has a \n",
    "# Unicode value of 66 and b has a Unicode value of 98. This \n",
    "# comparison is the same as 66 < 98, which is true. So, Python will \n",
    "# return a True result.\n",
    "print(\"Brown\" < \"brown\")\n",
    "True\n",
    "\n",
    "\n",
    "# If the strings have the same first few letters, the comparison will \n",
    "# cycle through each letter of each string, from left to right until it \n",
    "# finds two letters that have different Unicode values. In this example, \n",
    "# both strings share the initial substring \"sun\", but then have \n",
    "# different letters with different Unicode values in the fourth place \n",
    "# in each string. So, the fourth letters 'b' and 't' of the two\n",
    "# strings are used for the comparison. Since 'b' does not have a higher\n",
    "# Unicode value than 't', the comparison returns a False result.\n",
    "print(\"sunbathe\" > \"suntan\")\n",
    "False\n",
    "\n",
    "\n",
    "# If two identical strings are compared using the less than < comparison\n",
    "# operator, this will produce a False result because they are equal.\n",
    "print(\"Lima\" < \"Lima\")\n",
    "False\n",
    "\n",
    "\n",
    "# This last example illustrates the result of trying to compare two\n",
    "# items of different data types using the less than < operator. The \n",
    "# greater than > and less than operators < cannot be used to compare\n",
    "# two different data types. \n",
    "print(\"Five\" < 6)\n",
    "\"\"\"\n",
    "Error on line 1:\n",
    "    print(\"Five\" < 6)\n",
    "TypeError: '<' not supported between instances of 'str' and 'int'\n",
    "\"\"\"\n"
   ]
  },
  {
   "cell_type": "markdown",
   "metadata": {},
   "source": [
    "## 3. PART 3: The Greater Than or Equal To >= and Less Than or Equal To <= Operators"
   ]
  },
  {
   "cell_type": "markdown",
   "metadata": {},
   "source": [
    "- The greater than or equal to >= and less than or equal to <= operators can be used with strings as well. Like the other comparison operators, they will return a True or False Boolean result when a comparison is made between two strings. \n",
    "\n",
    "  + To check if a string has a larger or equal Unicode value than the first letter(s) of another string, use the greater than or equal to operator: >= \n",
    "\n",
    "  + To check if a string has a smaller or equal Unicode value than the first letter(s) of another string, use the less than or equal to operator: <="
   ]
  },
  {
   "cell_type": "markdown",
   "metadata": {},
   "source": [
    "At this point, you should be familiar with how comparison operators work in Python. Can you determine what the results will be from the comparisons listed below? When you are ready to check your answers, click Run.\n",
    "\n",
    "- \"my computer\" >= \"my chair\"\n",
    "\n",
    "- \"Spring\" <= \"Winter\"\n",
    "\n",
    "- \"pineapple\" >= \"pineapple\""
   ]
  },
  {
   "cell_type": "code",
   "execution_count": 5,
   "metadata": {},
   "outputs": [
    {
     "name": "stdout",
     "output_type": "stream",
     "text": [
      "Is \"my computer\" greater than or equal to \"my chair\"? Result:  True\n",
      "Is \"Spring\" less than or equal to \"Winter\"? Result:  True\n",
      "Is \"pineapple\" less than or equal to \"pineapple\"? Result:  True\n"
     ]
    }
   ],
   "source": [
    "# Use the Unicode chart in Part 2 to determine if the Unicode values of \n",
    "# the first letters of each string are higher, lower, or equal to one\n",
    "# another. \n",
    "\n",
    "\n",
    "var1 = \"my computer\" >= \"my chair\"\n",
    "var2 = \"Spring\" <= \"Winter\"\n",
    "var3 = \"pineapple\" >= \"pineapple\"\n",
    "\n",
    "print(\"Is \\\"my computer\\\" greater than or equal to \\\"my chair\\\"? Result: \", var1)\n",
    "print(\"Is \\\"Spring\\\" less than or equal to \\\"Winter\\\"? Result: \", var2)\n",
    "print(\"Is \\\"pineapple\\\" less than or equal to \\\"pineapple\\\"? Result: \", var3)\n"
   ]
  },
  {
   "cell_type": "markdown",
   "metadata": {},
   "source": [
    "## 4. PART 4: Practice"
   ]
  },
  {
   "cell_type": "markdown",
   "metadata": {},
   "source": [
    "If you would like more practice using the comparison (==, !=, >, <, >=, <=) operators with strings, feel free to create your own comparisons using the code block below. Note that there is no feedback associated with this code block. "
   ]
  },
  {
   "cell_type": "code",
   "execution_count": null,
   "metadata": {},
   "outputs": [],
   "source": []
  },
  {
   "cell_type": "markdown",
   "metadata": {},
   "source": [
    "For additional Python practice, the following links are for several popular online interpreters and codepads:\n",
    "\n",
    "- [Welcome to Python](https://www.python.org/shell/)\n",
    " \n",
    "- [Online Python Interpreter](https://www.onlinegdb.com/online_python_interpreter)\n",
    " \n",
    "- [Create a new Repl](https://replit.com/languages/python3)\n",
    " \n",
    "- [Online Python-3 Compiler (Interpreter)](https://www.tutorialspoint.com/online_python_compiler.php)\n",
    "\n",
    "- [Compile Python 3 Online](https://rextester.com/l/python3_online_compiler)\n",
    "\n",
    "- [Your Python Trinket](https://trinket.io/python3)"
   ]
  },
  {
   "cell_type": "markdown",
   "metadata": {},
   "source": [
    "## 5. Key takeaways\n",
    "Python comparison operators return Boolean results (True or False) with strings:"
   ]
  },
  {
   "cell_type": "markdown",
   "metadata": {},
   "source": [
    "<table>\n",
    "  <thead>\n",
    "    <tr>\n",
    "      <th>Expression</th>\n",
    "      <th>Description</th>\n",
    "    </tr>\n",
    "  </thead>\n",
    "  <tbody>\n",
    "    <tr>\n",
    "      <td>\"a\" == \"a\"</td>\n",
    "      <td>If string \"a\" is identical to string \"a\", returns True. Else, returns False</td>\n",
    "    </tr>\n",
    "    <tr>\n",
    "      <td>\"a\" != \"b\"</td>\n",
    "      <td>If string \"a\" is <strong>not</strong> identical to string \"b\"</td>\n",
    "    </tr>\n",
    "    <tr>\n",
    "      <td>\"a\" &gt; \"b\"</td>\n",
    "      <td>If string \"a\" has a larger Unicode value than string \"b\"</td>\n",
    "    </tr>\n",
    "    <tr>\n",
    "      <td>\"a\" &gt;= \"b\"</td>\n",
    "      <td>If the Unicode value for string \"a\" is greater than or equal to the Unicode value of string \"b\"</td>\n",
    "    </tr>\n",
    "    <tr>\n",
    "      <td>\"a\" &lt; \"b\"</td>\n",
    "      <td>If string \"a\" has a smaller Unicode value than string \"b\"</td>\n",
    "    </tr>\n",
    "    <tr>\n",
    "      <td>\"a\" &lt;= \"b\"</td>\n",
    "      <td>If the Unicode value for string \"a\" is smaller than or equal to the Unicode value of string \"b\"</td>\n",
    "    </tr>\n",
    "  </tbody>\n",
    "</table>\n"
   ]
  },
  {
   "cell_type": "markdown",
   "metadata": {},
   "source": [
    "## 6. Resources for more information\n",
    "\n",
    "\n"
   ]
  },
  {
   "cell_type": "markdown",
   "metadata": {},
   "source": [
    "For more information about the concepts covered in these practice exercises, please visit:\n",
    "\n",
    "+ [Python String Comparison: A Step-by-Step Guide (with Examples) ](https://www.logilax.com/python-string-comparison/) - A quick reference guide to using comparison operators with strings. Includes part of a Unicode table that displays all of the Unicode values for both uppercase and lowercase letters.\n",
    "\n",
    "+ [Comparing Strings using Python](https://stackabuse.com/comparing-strings-using-python/) - Provides more advanced examples of using comparison operators with strings."
   ]
  }
 ],
 "metadata": {
  "kernelspec": {
   "display_name": "khoibui",
   "language": "python",
   "name": "python3"
  },
  "language_info": {
   "codemirror_mode": {
    "name": "ipython",
    "version": 3
   },
   "file_extension": ".py",
   "mimetype": "text/x-python",
   "name": "python",
   "nbconvert_exporter": "python",
   "pygments_lexer": "ipython3",
   "version": "3.12.3"
  }
 },
 "nbformat": 4,
 "nbformat_minor": 2
}
